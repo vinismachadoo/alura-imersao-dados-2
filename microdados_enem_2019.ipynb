{
  "nbformat": 4,
  "nbformat_minor": 0,
  "metadata": {
    "colab": {
      "name": "microdados_enem_2019.ipynb",
      "provenance": [],
      "collapsed_sections": [],
      "include_colab_link": true
    },
    "kernelspec": {
      "name": "python3",
      "display_name": "Python 3"
    }
  },
  "cells": [
    {
      "cell_type": "markdown",
      "metadata": {
        "id": "view-in-github",
        "colab_type": "text"
      },
      "source": [
        "<a href=\"https://colab.research.google.com/github/vinismachadoo/alura_imersao_dados_2/blob/main/microdados_enem_2019.ipynb\" target=\"_parent\"><img src=\"https://colab.research.google.com/assets/colab-badge.svg\" alt=\"Open In Colab\"/></a>"
      ]
    },
    {
      "cell_type": "markdown",
      "metadata": {
        "id": "b6AU6GDJvy-X"
      },
      "source": [
        "# 1. INTRODUÇÃO\n",
        "## SUBTITULO\n",
        "### H3\n",
        "#### H4\n",
        "**BOLD**\n",
        "_ITALIC_\n",
        "---\n",
        "\n",
        "`CODE`\n",
        "---\n",
        "$latex$"
      ]
    },
    {
      "cell_type": "markdown",
      "metadata": {
        "id": "Bh9wgyHDyR_q"
      },
      "source": [
        "#1. INTRODUÇÃO\n",
        "Em 1998 era criado o Exame Nacional do Ensino Médio (Enem) com a finalidade de avaliar o desempenho dos estudantes de escolas públicas e particulares do Ensino Médio. Desde 2009, no entanto, o Enem assumiu mais uma função: ser a porta de entrada dos estudantes nas instituições federais de ensino superior, assim como para programas do Governo Federal como o Sisu, Prouni e Fies.\n",
        "\n",
        "Milhões de estudantes em todo o país realizam o exame aplicado entre outubro e novembro em dois domingos consecutivos. No primeiro dia, são realizadas as provas de linguagens e ciências humanas além de uma redação, enquanto no segundo, o candidato testa seus conhecimentos em matemática e ciências da natureza. A prova, bastante temida entre os alunos, ocorre anualmente e requer quase um ano de preparação pra reunir todo o conteúdo do ensino médio.\n",
        "\n",
        "Os microdados mais recentes do exame, isto é, a base de dados com todas as informações respondidas pelo candidato desde o momento da inscrição até o resultado,  que estão disponíveis ao público no site do INEP são da edição realizada em 2019, que contou com mais de 5 milhões de inscrições de todo o país."
      ]
    },
    {
      "cell_type": "markdown",
      "metadata": {
        "id": "3vjSymIIzfOv"
      },
      "source": [
        "#2. BIBLIOTECAS"
      ]
    },
    {
      "cell_type": "code",
      "metadata": {
        "id": "GaiAMlMq-NhT"
      },
      "source": [
        "!pip install geopandas --quiet\n",
        "!pip install squarify --quiet"
      ],
      "execution_count": 1,
      "outputs": []
    },
    {
      "cell_type": "code",
      "metadata": {
        "id": "BXL2weZSCr8T"
      },
      "source": [
        "import pandas as pd\n",
        "import numpy as np\n",
        "import seaborn as sns\n",
        "import matplotlib.pyplot as plt\n",
        "from matplotlib_venn import venn2\n",
        "from matplotlib.patches import Patch\n",
        "from matplotlib.offsetbox import AnchoredText\n",
        "import squarify\n",
        "import geopandas as gpd\n",
        "\n",
        "import sys\n",
        "import warnings\n",
        "warnings.filterwarnings(\"ignore\")\n",
        "\n",
        "pd.options.display.max_rows=200\n",
        "pd.options.display.max_columns=200"
      ],
      "execution_count": 2,
      "outputs": []
    },
    {
      "cell_type": "markdown",
      "metadata": {
        "id": "jH3VXZgdNW47"
      },
      "source": [
        "#3. BASE DE DADOS\n",
        "\n",
        "O dataset que será explorado neste notebook pode ser encontrado [aqui](https://raw.githubusercontent.com/alura-cursos/imersao-dados-2-2020/master/MICRODADOS_ENEM_2019_SAMPLE_43278.csv). Para esta análise, o time da Alura selecionou uma amostra aleatória de 127,380 inscritos de forma a representar a população. É possível entender melhor a amostragem neste [link](https://github.com/alura-cursos/imersao-dados-2-2020/tree/master/filtrarDados). Foram mantidas todas as 136 colunas do dataset original e a descrição de cada coluna, assim como suas categorias possíveis de resposta, neste [diconário](https://github.com/alura-cursos/imersao-dados-2-2020/tree/master/DICION%C3%81RIO)."
      ]
    },
    {
      "cell_type": "code",
      "metadata": {
        "id": "nbO4tjQe-ZvK"
      },
      "source": [
        "enem = pd.read_csv('https://raw.githubusercontent.com/alura-cursos/imersao-dados-2-2020/master/MICRODADOS_ENEM_2019_SAMPLE_43278.csv')"
      ],
      "execution_count": 3,
      "outputs": []
    },
    {
      "cell_type": "code",
      "metadata": {
        "id": "PTkcuAyHEMxl",
        "outputId": "a32524b8-33e3-47ef-a77a-1a9be27a9e60",
        "colab": {
          "base_uri": "https://localhost:8080/",
          "height": 34
        }
      },
      "source": [
        "enem.shape"
      ],
      "execution_count": 4,
      "outputs": [
        {
          "output_type": "execute_result",
          "data": {
            "text/plain": [
              "(127380, 136)"
            ]
          },
          "metadata": {
            "tags": []
          },
          "execution_count": 4
        }
      ]
    },
    {
      "cell_type": "code",
      "metadata": {
        "id": "GrPTtb80Prje",
        "outputId": "6e4b7489-5ad6-4eb3-e471-cc3a03fe5bc6",
        "colab": {
          "base_uri": "https://localhost:8080/",
          "height": 317
        }
      },
      "source": [
        "enem.describe()"
      ],
      "execution_count": 5,
      "outputs": [
        {
          "output_type": "execute_result",
          "data": {
            "text/html": [
              "<div>\n",
              "<style scoped>\n",
              "    .dataframe tbody tr th:only-of-type {\n",
              "        vertical-align: middle;\n",
              "    }\n",
              "\n",
              "    .dataframe tbody tr th {\n",
              "        vertical-align: top;\n",
              "    }\n",
              "\n",
              "    .dataframe thead th {\n",
              "        text-align: right;\n",
              "    }\n",
              "</style>\n",
              "<table border=\"1\" class=\"dataframe\">\n",
              "  <thead>\n",
              "    <tr style=\"text-align: right;\">\n",
              "      <th></th>\n",
              "      <th>NU_INSCRICAO</th>\n",
              "      <th>NU_ANO</th>\n",
              "      <th>CO_MUNICIPIO_RESIDENCIA</th>\n",
              "      <th>CO_UF_RESIDENCIA</th>\n",
              "      <th>NU_IDADE</th>\n",
              "      <th>TP_ESTADO_CIVIL</th>\n",
              "      <th>TP_COR_RACA</th>\n",
              "      <th>TP_NACIONALIDADE</th>\n",
              "      <th>CO_MUNICIPIO_NASCIMENTO</th>\n",
              "      <th>CO_UF_NASCIMENTO</th>\n",
              "      <th>TP_ST_CONCLUSAO</th>\n",
              "      <th>TP_ANO_CONCLUIU</th>\n",
              "      <th>TP_ESCOLA</th>\n",
              "      <th>TP_ENSINO</th>\n",
              "      <th>IN_TREINEIRO</th>\n",
              "      <th>CO_ESCOLA</th>\n",
              "      <th>CO_MUNICIPIO_ESC</th>\n",
              "      <th>CO_UF_ESC</th>\n",
              "      <th>TP_DEPENDENCIA_ADM_ESC</th>\n",
              "      <th>TP_LOCALIZACAO_ESC</th>\n",
              "      <th>TP_SIT_FUNC_ESC</th>\n",
              "      <th>IN_BAIXA_VISAO</th>\n",
              "      <th>IN_CEGUEIRA</th>\n",
              "      <th>IN_SURDEZ</th>\n",
              "      <th>IN_DEFICIENCIA_AUDITIVA</th>\n",
              "      <th>IN_SURDO_CEGUEIRA</th>\n",
              "      <th>IN_DEFICIENCIA_FISICA</th>\n",
              "      <th>IN_DEFICIENCIA_MENTAL</th>\n",
              "      <th>IN_DEFICIT_ATENCAO</th>\n",
              "      <th>IN_DISLEXIA</th>\n",
              "      <th>IN_DISCALCULIA</th>\n",
              "      <th>IN_AUTISMO</th>\n",
              "      <th>IN_VISAO_MONOCULAR</th>\n",
              "      <th>IN_OUTRA_DEF</th>\n",
              "      <th>IN_GESTANTE</th>\n",
              "      <th>IN_LACTANTE</th>\n",
              "      <th>IN_IDOSO</th>\n",
              "      <th>IN_ESTUDA_CLASSE_HOSPITALAR</th>\n",
              "      <th>IN_SEM_RECURSO</th>\n",
              "      <th>IN_BRAILLE</th>\n",
              "      <th>IN_AMPLIADA_24</th>\n",
              "      <th>IN_AMPLIADA_18</th>\n",
              "      <th>IN_LEDOR</th>\n",
              "      <th>IN_ACESSO</th>\n",
              "      <th>IN_TRANSCRICAO</th>\n",
              "      <th>IN_LIBRAS</th>\n",
              "      <th>IN_TEMPO_ADICIONAL</th>\n",
              "      <th>IN_LEITURA_LABIAL</th>\n",
              "      <th>IN_MESA_CADEIRA_RODAS</th>\n",
              "      <th>IN_MESA_CADEIRA_SEPARADA</th>\n",
              "      <th>IN_APOIO_PERNA</th>\n",
              "      <th>IN_GUIA_INTERPRETE</th>\n",
              "      <th>IN_COMPUTADOR</th>\n",
              "      <th>IN_CADEIRA_ESPECIAL</th>\n",
              "      <th>IN_CADEIRA_CANHOTO</th>\n",
              "      <th>IN_CADEIRA_ACOLCHOADA</th>\n",
              "      <th>IN_PROVA_DEITADO</th>\n",
              "      <th>IN_MOBILIARIO_OBESO</th>\n",
              "      <th>IN_LAMINA_OVERLAY</th>\n",
              "      <th>IN_PROTETOR_AURICULAR</th>\n",
              "      <th>IN_MEDIDOR_GLICOSE</th>\n",
              "      <th>IN_MAQUINA_BRAILE</th>\n",
              "      <th>IN_SOROBAN</th>\n",
              "      <th>IN_MARCA_PASSO</th>\n",
              "      <th>IN_SONDA</th>\n",
              "      <th>IN_MEDICAMENTOS</th>\n",
              "      <th>IN_SALA_INDIVIDUAL</th>\n",
              "      <th>IN_SALA_ESPECIAL</th>\n",
              "      <th>IN_SALA_ACOMPANHANTE</th>\n",
              "      <th>IN_MOBILIARIO_ESPECIFICO</th>\n",
              "      <th>IN_MATERIAL_ESPECIFICO</th>\n",
              "      <th>IN_NOME_SOCIAL</th>\n",
              "      <th>CO_MUNICIPIO_PROVA</th>\n",
              "      <th>CO_UF_PROVA</th>\n",
              "      <th>TP_PRESENCA_CN</th>\n",
              "      <th>TP_PRESENCA_CH</th>\n",
              "      <th>TP_PRESENCA_LC</th>\n",
              "      <th>TP_PRESENCA_MT</th>\n",
              "      <th>CO_PROVA_CN</th>\n",
              "      <th>CO_PROVA_CH</th>\n",
              "      <th>CO_PROVA_LC</th>\n",
              "      <th>CO_PROVA_MT</th>\n",
              "      <th>NU_NOTA_CN</th>\n",
              "      <th>NU_NOTA_CH</th>\n",
              "      <th>NU_NOTA_LC</th>\n",
              "      <th>NU_NOTA_MT</th>\n",
              "      <th>TP_LINGUA</th>\n",
              "      <th>TP_STATUS_REDACAO</th>\n",
              "      <th>NU_NOTA_COMP1</th>\n",
              "      <th>NU_NOTA_COMP2</th>\n",
              "      <th>NU_NOTA_COMP3</th>\n",
              "      <th>NU_NOTA_COMP4</th>\n",
              "      <th>NU_NOTA_COMP5</th>\n",
              "      <th>NU_NOTA_REDACAO</th>\n",
              "      <th>Q005</th>\n",
              "    </tr>\n",
              "  </thead>\n",
              "  <tbody>\n",
              "    <tr>\n",
              "      <th>count</th>\n",
              "      <td>1.273800e+05</td>\n",
              "      <td>127380.0</td>\n",
              "      <td>1.273800e+05</td>\n",
              "      <td>127380.000000</td>\n",
              "      <td>127380.000000</td>\n",
              "      <td>127380.000000</td>\n",
              "      <td>127380.000000</td>\n",
              "      <td>127380.000000</td>\n",
              "      <td>1.237570e+05</td>\n",
              "      <td>123757.000000</td>\n",
              "      <td>127380.000000</td>\n",
              "      <td>127380.000000</td>\n",
              "      <td>127380.000000</td>\n",
              "      <td>71978.000000</td>\n",
              "      <td>127380.000000</td>\n",
              "      <td>2.862700e+04</td>\n",
              "      <td>2.862700e+04</td>\n",
              "      <td>28627.000000</td>\n",
              "      <td>28627.000000</td>\n",
              "      <td>28627.000000</td>\n",
              "      <td>28627.000000</td>\n",
              "      <td>127380.000000</td>\n",
              "      <td>127380.000000</td>\n",
              "      <td>127380.000000</td>\n",
              "      <td>127380.000000</td>\n",
              "      <td>127380.000000</td>\n",
              "      <td>127380.000000</td>\n",
              "      <td>127380.000000</td>\n",
              "      <td>127380.000000</td>\n",
              "      <td>127380.000000</td>\n",
              "      <td>127380.000000</td>\n",
              "      <td>127380.000000</td>\n",
              "      <td>127380.000000</td>\n",
              "      <td>127380.000000</td>\n",
              "      <td>127380.000000</td>\n",
              "      <td>127380.000000</td>\n",
              "      <td>127380.000000</td>\n",
              "      <td>127380.000000</td>\n",
              "      <td>127380.000000</td>\n",
              "      <td>127380.000000</td>\n",
              "      <td>127380.000000</td>\n",
              "      <td>127380.000000</td>\n",
              "      <td>127380.000000</td>\n",
              "      <td>127380.000000</td>\n",
              "      <td>127380.000000</td>\n",
              "      <td>127380.000000</td>\n",
              "      <td>127380.000000</td>\n",
              "      <td>127380.000000</td>\n",
              "      <td>127380.000000</td>\n",
              "      <td>127380.000000</td>\n",
              "      <td>127380.000000</td>\n",
              "      <td>127380.000000</td>\n",
              "      <td>127380.0</td>\n",
              "      <td>127380.000000</td>\n",
              "      <td>127380.000000</td>\n",
              "      <td>127380.000000</td>\n",
              "      <td>127380.0</td>\n",
              "      <td>127380.000000</td>\n",
              "      <td>127380.000000</td>\n",
              "      <td>127380.0</td>\n",
              "      <td>127380.000000</td>\n",
              "      <td>127380.000000</td>\n",
              "      <td>127380.000000</td>\n",
              "      <td>127380.0</td>\n",
              "      <td>127380.0</td>\n",
              "      <td>127380.000000</td>\n",
              "      <td>127380.000000</td>\n",
              "      <td>127380.000000</td>\n",
              "      <td>127380.000000</td>\n",
              "      <td>127380.0</td>\n",
              "      <td>127380.000000</td>\n",
              "      <td>127380.000000</td>\n",
              "      <td>1.273800e+05</td>\n",
              "      <td>127380.000000</td>\n",
              "      <td>127380.000000</td>\n",
              "      <td>127380.000000</td>\n",
              "      <td>127380.000000</td>\n",
              "      <td>127380.000000</td>\n",
              "      <td>92758.000000</td>\n",
              "      <td>98043.000000</td>\n",
              "      <td>98043.000000</td>\n",
              "      <td>92758.000000</td>\n",
              "      <td>92758.000000</td>\n",
              "      <td>98043.000000</td>\n",
              "      <td>98043.000000</td>\n",
              "      <td>92758.000000</td>\n",
              "      <td>127380.000000</td>\n",
              "      <td>98043.000000</td>\n",
              "      <td>98043.000000</td>\n",
              "      <td>98043.000000</td>\n",
              "      <td>98043.000000</td>\n",
              "      <td>98043.000000</td>\n",
              "      <td>98043.000000</td>\n",
              "      <td>98043.000000</td>\n",
              "      <td>127380.000000</td>\n",
              "    </tr>\n",
              "    <tr>\n",
              "      <th>mean</th>\n",
              "      <td>1.900035e+11</td>\n",
              "      <td>2019.0</td>\n",
              "      <td>3.086067e+06</td>\n",
              "      <td>30.709389</td>\n",
              "      <td>22.094355</td>\n",
              "      <td>1.076841</td>\n",
              "      <td>2.131198</td>\n",
              "      <td>1.029345</td>\n",
              "      <td>3.058310e+06</td>\n",
              "      <td>30.431103</td>\n",
              "      <td>1.540493</td>\n",
              "      <td>2.961870</td>\n",
              "      <td>1.330515</td>\n",
              "      <td>1.004585</td>\n",
              "      <td>0.120906</td>\n",
              "      <td>3.125412e+07</td>\n",
              "      <td>3.127669e+06</td>\n",
              "      <td>31.120690</td>\n",
              "      <td>2.257764</td>\n",
              "      <td>1.035037</td>\n",
              "      <td>1.005973</td>\n",
              "      <td>0.001099</td>\n",
              "      <td>0.000110</td>\n",
              "      <td>0.000259</td>\n",
              "      <td>0.000377</td>\n",
              "      <td>0.000008</td>\n",
              "      <td>0.001499</td>\n",
              "      <td>0.000479</td>\n",
              "      <td>0.001704</td>\n",
              "      <td>0.000353</td>\n",
              "      <td>0.000055</td>\n",
              "      <td>0.000228</td>\n",
              "      <td>0.000228</td>\n",
              "      <td>0.000659</td>\n",
              "      <td>0.000251</td>\n",
              "      <td>0.000746</td>\n",
              "      <td>0.000047</td>\n",
              "      <td>0.000008</td>\n",
              "      <td>0.001342</td>\n",
              "      <td>0.000039</td>\n",
              "      <td>0.000181</td>\n",
              "      <td>0.000801</td>\n",
              "      <td>0.001248</td>\n",
              "      <td>0.001515</td>\n",
              "      <td>0.001185</td>\n",
              "      <td>0.000188</td>\n",
              "      <td>0.002544</td>\n",
              "      <td>0.000110</td>\n",
              "      <td>0.000322</td>\n",
              "      <td>0.000275</td>\n",
              "      <td>0.000455</td>\n",
              "      <td>0.000008</td>\n",
              "      <td>0.0</td>\n",
              "      <td>0.000008</td>\n",
              "      <td>0.000008</td>\n",
              "      <td>0.000016</td>\n",
              "      <td>0.0</td>\n",
              "      <td>0.000008</td>\n",
              "      <td>0.000008</td>\n",
              "      <td>0.0</td>\n",
              "      <td>0.000118</td>\n",
              "      <td>0.000016</td>\n",
              "      <td>0.000008</td>\n",
              "      <td>0.0</td>\n",
              "      <td>0.0</td>\n",
              "      <td>0.000079</td>\n",
              "      <td>0.000031</td>\n",
              "      <td>0.000063</td>\n",
              "      <td>0.000008</td>\n",
              "      <td>0.0</td>\n",
              "      <td>0.000047</td>\n",
              "      <td>0.000079</td>\n",
              "      <td>3.088090e+06</td>\n",
              "      <td>30.730735</td>\n",
              "      <td>0.729016</td>\n",
              "      <td>0.771667</td>\n",
              "      <td>0.771667</td>\n",
              "      <td>0.729016</td>\n",
              "      <td>504.508538</td>\n",
              "      <td>508.511745</td>\n",
              "      <td>512.506910</td>\n",
              "      <td>516.509864</td>\n",
              "      <td>477.964015</td>\n",
              "      <td>507.365912</td>\n",
              "      <td>520.463928</td>\n",
              "      <td>523.555206</td>\n",
              "      <td>0.524486</td>\n",
              "      <td>1.136155</td>\n",
              "      <td>120.554859</td>\n",
              "      <td>122.912396</td>\n",
              "      <td>114.901013</td>\n",
              "      <td>121.682323</td>\n",
              "      <td>91.519435</td>\n",
              "      <td>571.570025</td>\n",
              "      <td>3.864068</td>\n",
              "    </tr>\n",
              "    <tr>\n",
              "      <th>std</th>\n",
              "      <td>1.469535e+06</td>\n",
              "      <td>0.0</td>\n",
              "      <td>9.961399e+05</td>\n",
              "      <td>9.931060</td>\n",
              "      <td>7.498707</td>\n",
              "      <td>0.440671</td>\n",
              "      <td>1.017373</td>\n",
              "      <td>0.202790</td>\n",
              "      <td>9.827584e+05</td>\n",
              "      <td>9.793934</td>\n",
              "      <td>0.716452</td>\n",
              "      <td>4.106733</td>\n",
              "      <td>0.555043</td>\n",
              "      <td>0.067556</td>\n",
              "      <td>0.326019</td>\n",
              "      <td>9.564098e+06</td>\n",
              "      <td>9.600084e+05</td>\n",
              "      <td>9.569764</td>\n",
              "      <td>0.755357</td>\n",
              "      <td>0.183876</td>\n",
              "      <td>0.122273</td>\n",
              "      <td>0.033134</td>\n",
              "      <td>0.010483</td>\n",
              "      <td>0.016094</td>\n",
              "      <td>0.019408</td>\n",
              "      <td>0.002802</td>\n",
              "      <td>0.038694</td>\n",
              "      <td>0.021878</td>\n",
              "      <td>0.041239</td>\n",
              "      <td>0.018792</td>\n",
              "      <td>0.007413</td>\n",
              "      <td>0.015087</td>\n",
              "      <td>0.015087</td>\n",
              "      <td>0.025671</td>\n",
              "      <td>0.015848</td>\n",
              "      <td>0.027299</td>\n",
              "      <td>0.006863</td>\n",
              "      <td>0.002802</td>\n",
              "      <td>0.036615</td>\n",
              "      <td>0.006265</td>\n",
              "      <td>0.013436</td>\n",
              "      <td>0.028286</td>\n",
              "      <td>0.035308</td>\n",
              "      <td>0.038896</td>\n",
              "      <td>0.034410</td>\n",
              "      <td>0.013725</td>\n",
              "      <td>0.050370</td>\n",
              "      <td>0.010483</td>\n",
              "      <td>0.017938</td>\n",
              "      <td>0.016574</td>\n",
              "      <td>0.021334</td>\n",
              "      <td>0.002802</td>\n",
              "      <td>0.0</td>\n",
              "      <td>0.002802</td>\n",
              "      <td>0.002802</td>\n",
              "      <td>0.003962</td>\n",
              "      <td>0.0</td>\n",
              "      <td>0.002802</td>\n",
              "      <td>0.002802</td>\n",
              "      <td>0.0</td>\n",
              "      <td>0.010851</td>\n",
              "      <td>0.003962</td>\n",
              "      <td>0.002802</td>\n",
              "      <td>0.0</td>\n",
              "      <td>0.0</td>\n",
              "      <td>0.008860</td>\n",
              "      <td>0.005604</td>\n",
              "      <td>0.007925</td>\n",
              "      <td>0.002802</td>\n",
              "      <td>0.0</td>\n",
              "      <td>0.006863</td>\n",
              "      <td>0.008860</td>\n",
              "      <td>9.966122e+05</td>\n",
              "      <td>9.935942</td>\n",
              "      <td>0.445387</td>\n",
              "      <td>0.422110</td>\n",
              "      <td>0.422110</td>\n",
              "      <td>0.445387</td>\n",
              "      <td>1.197953</td>\n",
              "      <td>1.185302</td>\n",
              "      <td>1.163769</td>\n",
              "      <td>1.146852</td>\n",
              "      <td>76.296099</td>\n",
              "      <td>82.972839</td>\n",
              "      <td>64.556578</td>\n",
              "      <td>109.416939</td>\n",
              "      <td>0.499402</td>\n",
              "      <td>0.777411</td>\n",
              "      <td>33.250346</td>\n",
              "      <td>42.786693</td>\n",
              "      <td>40.030347</td>\n",
              "      <td>37.953250</td>\n",
              "      <td>59.380566</td>\n",
              "      <td>188.076455</td>\n",
              "      <td>1.475714</td>\n",
              "    </tr>\n",
              "    <tr>\n",
              "      <th>min</th>\n",
              "      <td>1.900010e+11</td>\n",
              "      <td>2019.0</td>\n",
              "      <td>1.100015e+06</td>\n",
              "      <td>11.000000</td>\n",
              "      <td>13.000000</td>\n",
              "      <td>0.000000</td>\n",
              "      <td>0.000000</td>\n",
              "      <td>0.000000</td>\n",
              "      <td>1.100015e+06</td>\n",
              "      <td>11.000000</td>\n",
              "      <td>1.000000</td>\n",
              "      <td>0.000000</td>\n",
              "      <td>1.000000</td>\n",
              "      <td>1.000000</td>\n",
              "      <td>0.000000</td>\n",
              "      <td>1.100006e+07</td>\n",
              "      <td>1.100015e+06</td>\n",
              "      <td>11.000000</td>\n",
              "      <td>1.000000</td>\n",
              "      <td>1.000000</td>\n",
              "      <td>1.000000</td>\n",
              "      <td>0.000000</td>\n",
              "      <td>0.000000</td>\n",
              "      <td>0.000000</td>\n",
              "      <td>0.000000</td>\n",
              "      <td>0.000000</td>\n",
              "      <td>0.000000</td>\n",
              "      <td>0.000000</td>\n",
              "      <td>0.000000</td>\n",
              "      <td>0.000000</td>\n",
              "      <td>0.000000</td>\n",
              "      <td>0.000000</td>\n",
              "      <td>0.000000</td>\n",
              "      <td>0.000000</td>\n",
              "      <td>0.000000</td>\n",
              "      <td>0.000000</td>\n",
              "      <td>0.000000</td>\n",
              "      <td>0.000000</td>\n",
              "      <td>0.000000</td>\n",
              "      <td>0.000000</td>\n",
              "      <td>0.000000</td>\n",
              "      <td>0.000000</td>\n",
              "      <td>0.000000</td>\n",
              "      <td>0.000000</td>\n",
              "      <td>0.000000</td>\n",
              "      <td>0.000000</td>\n",
              "      <td>0.000000</td>\n",
              "      <td>0.000000</td>\n",
              "      <td>0.000000</td>\n",
              "      <td>0.000000</td>\n",
              "      <td>0.000000</td>\n",
              "      <td>0.000000</td>\n",
              "      <td>0.0</td>\n",
              "      <td>0.000000</td>\n",
              "      <td>0.000000</td>\n",
              "      <td>0.000000</td>\n",
              "      <td>0.0</td>\n",
              "      <td>0.000000</td>\n",
              "      <td>0.000000</td>\n",
              "      <td>0.0</td>\n",
              "      <td>0.000000</td>\n",
              "      <td>0.000000</td>\n",
              "      <td>0.000000</td>\n",
              "      <td>0.0</td>\n",
              "      <td>0.0</td>\n",
              "      <td>0.000000</td>\n",
              "      <td>0.000000</td>\n",
              "      <td>0.000000</td>\n",
              "      <td>0.000000</td>\n",
              "      <td>0.0</td>\n",
              "      <td>0.000000</td>\n",
              "      <td>0.000000</td>\n",
              "      <td>1.100015e+06</td>\n",
              "      <td>11.000000</td>\n",
              "      <td>0.000000</td>\n",
              "      <td>0.000000</td>\n",
              "      <td>0.000000</td>\n",
              "      <td>0.000000</td>\n",
              "      <td>503.000000</td>\n",
              "      <td>507.000000</td>\n",
              "      <td>511.000000</td>\n",
              "      <td>515.000000</td>\n",
              "      <td>0.000000</td>\n",
              "      <td>0.000000</td>\n",
              "      <td>0.000000</td>\n",
              "      <td>0.000000</td>\n",
              "      <td>0.000000</td>\n",
              "      <td>1.000000</td>\n",
              "      <td>0.000000</td>\n",
              "      <td>0.000000</td>\n",
              "      <td>0.000000</td>\n",
              "      <td>0.000000</td>\n",
              "      <td>0.000000</td>\n",
              "      <td>0.000000</td>\n",
              "      <td>1.000000</td>\n",
              "    </tr>\n",
              "    <tr>\n",
              "      <th>25%</th>\n",
              "      <td>1.900023e+11</td>\n",
              "      <td>2019.0</td>\n",
              "      <td>2.405776e+06</td>\n",
              "      <td>24.000000</td>\n",
              "      <td>18.000000</td>\n",
              "      <td>1.000000</td>\n",
              "      <td>1.000000</td>\n",
              "      <td>1.000000</td>\n",
              "      <td>2.313955e+06</td>\n",
              "      <td>23.000000</td>\n",
              "      <td>1.000000</td>\n",
              "      <td>0.000000</td>\n",
              "      <td>1.000000</td>\n",
              "      <td>1.000000</td>\n",
              "      <td>0.000000</td>\n",
              "      <td>2.400979e+07</td>\n",
              "      <td>2.402654e+06</td>\n",
              "      <td>24.000000</td>\n",
              "      <td>2.000000</td>\n",
              "      <td>1.000000</td>\n",
              "      <td>1.000000</td>\n",
              "      <td>0.000000</td>\n",
              "      <td>0.000000</td>\n",
              "      <td>0.000000</td>\n",
              "      <td>0.000000</td>\n",
              "      <td>0.000000</td>\n",
              "      <td>0.000000</td>\n",
              "      <td>0.000000</td>\n",
              "      <td>0.000000</td>\n",
              "      <td>0.000000</td>\n",
              "      <td>0.000000</td>\n",
              "      <td>0.000000</td>\n",
              "      <td>0.000000</td>\n",
              "      <td>0.000000</td>\n",
              "      <td>0.000000</td>\n",
              "      <td>0.000000</td>\n",
              "      <td>0.000000</td>\n",
              "      <td>0.000000</td>\n",
              "      <td>0.000000</td>\n",
              "      <td>0.000000</td>\n",
              "      <td>0.000000</td>\n",
              "      <td>0.000000</td>\n",
              "      <td>0.000000</td>\n",
              "      <td>0.000000</td>\n",
              "      <td>0.000000</td>\n",
              "      <td>0.000000</td>\n",
              "      <td>0.000000</td>\n",
              "      <td>0.000000</td>\n",
              "      <td>0.000000</td>\n",
              "      <td>0.000000</td>\n",
              "      <td>0.000000</td>\n",
              "      <td>0.000000</td>\n",
              "      <td>0.0</td>\n",
              "      <td>0.000000</td>\n",
              "      <td>0.000000</td>\n",
              "      <td>0.000000</td>\n",
              "      <td>0.0</td>\n",
              "      <td>0.000000</td>\n",
              "      <td>0.000000</td>\n",
              "      <td>0.0</td>\n",
              "      <td>0.000000</td>\n",
              "      <td>0.000000</td>\n",
              "      <td>0.000000</td>\n",
              "      <td>0.0</td>\n",
              "      <td>0.0</td>\n",
              "      <td>0.000000</td>\n",
              "      <td>0.000000</td>\n",
              "      <td>0.000000</td>\n",
              "      <td>0.000000</td>\n",
              "      <td>0.0</td>\n",
              "      <td>0.000000</td>\n",
              "      <td>0.000000</td>\n",
              "      <td>2.408003e+06</td>\n",
              "      <td>24.000000</td>\n",
              "      <td>0.000000</td>\n",
              "      <td>1.000000</td>\n",
              "      <td>1.000000</td>\n",
              "      <td>0.000000</td>\n",
              "      <td>504.000000</td>\n",
              "      <td>508.000000</td>\n",
              "      <td>512.000000</td>\n",
              "      <td>516.000000</td>\n",
              "      <td>418.000000</td>\n",
              "      <td>447.900000</td>\n",
              "      <td>483.700000</td>\n",
              "      <td>435.300000</td>\n",
              "      <td>0.000000</td>\n",
              "      <td>1.000000</td>\n",
              "      <td>120.000000</td>\n",
              "      <td>120.000000</td>\n",
              "      <td>100.000000</td>\n",
              "      <td>100.000000</td>\n",
              "      <td>40.000000</td>\n",
              "      <td>480.000000</td>\n",
              "      <td>3.000000</td>\n",
              "    </tr>\n",
              "    <tr>\n",
              "      <th>50%</th>\n",
              "      <td>1.900035e+11</td>\n",
              "      <td>2019.0</td>\n",
              "      <td>3.123779e+06</td>\n",
              "      <td>31.000000</td>\n",
              "      <td>19.000000</td>\n",
              "      <td>1.000000</td>\n",
              "      <td>2.000000</td>\n",
              "      <td>1.000000</td>\n",
              "      <td>3.109402e+06</td>\n",
              "      <td>31.000000</td>\n",
              "      <td>1.000000</td>\n",
              "      <td>1.000000</td>\n",
              "      <td>1.000000</td>\n",
              "      <td>1.000000</td>\n",
              "      <td>0.000000</td>\n",
              "      <td>3.116655e+07</td>\n",
              "      <td>3.147105e+06</td>\n",
              "      <td>31.000000</td>\n",
              "      <td>2.000000</td>\n",
              "      <td>1.000000</td>\n",
              "      <td>1.000000</td>\n",
              "      <td>0.000000</td>\n",
              "      <td>0.000000</td>\n",
              "      <td>0.000000</td>\n",
              "      <td>0.000000</td>\n",
              "      <td>0.000000</td>\n",
              "      <td>0.000000</td>\n",
              "      <td>0.000000</td>\n",
              "      <td>0.000000</td>\n",
              "      <td>0.000000</td>\n",
              "      <td>0.000000</td>\n",
              "      <td>0.000000</td>\n",
              "      <td>0.000000</td>\n",
              "      <td>0.000000</td>\n",
              "      <td>0.000000</td>\n",
              "      <td>0.000000</td>\n",
              "      <td>0.000000</td>\n",
              "      <td>0.000000</td>\n",
              "      <td>0.000000</td>\n",
              "      <td>0.000000</td>\n",
              "      <td>0.000000</td>\n",
              "      <td>0.000000</td>\n",
              "      <td>0.000000</td>\n",
              "      <td>0.000000</td>\n",
              "      <td>0.000000</td>\n",
              "      <td>0.000000</td>\n",
              "      <td>0.000000</td>\n",
              "      <td>0.000000</td>\n",
              "      <td>0.000000</td>\n",
              "      <td>0.000000</td>\n",
              "      <td>0.000000</td>\n",
              "      <td>0.000000</td>\n",
              "      <td>0.0</td>\n",
              "      <td>0.000000</td>\n",
              "      <td>0.000000</td>\n",
              "      <td>0.000000</td>\n",
              "      <td>0.0</td>\n",
              "      <td>0.000000</td>\n",
              "      <td>0.000000</td>\n",
              "      <td>0.0</td>\n",
              "      <td>0.000000</td>\n",
              "      <td>0.000000</td>\n",
              "      <td>0.000000</td>\n",
              "      <td>0.0</td>\n",
              "      <td>0.0</td>\n",
              "      <td>0.000000</td>\n",
              "      <td>0.000000</td>\n",
              "      <td>0.000000</td>\n",
              "      <td>0.000000</td>\n",
              "      <td>0.0</td>\n",
              "      <td>0.000000</td>\n",
              "      <td>0.000000</td>\n",
              "      <td>3.123956e+06</td>\n",
              "      <td>31.000000</td>\n",
              "      <td>1.000000</td>\n",
              "      <td>1.000000</td>\n",
              "      <td>1.000000</td>\n",
              "      <td>1.000000</td>\n",
              "      <td>505.000000</td>\n",
              "      <td>509.000000</td>\n",
              "      <td>513.000000</td>\n",
              "      <td>517.000000</td>\n",
              "      <td>470.200000</td>\n",
              "      <td>510.900000</td>\n",
              "      <td>526.100000</td>\n",
              "      <td>501.600000</td>\n",
              "      <td>1.000000</td>\n",
              "      <td>1.000000</td>\n",
              "      <td>120.000000</td>\n",
              "      <td>120.000000</td>\n",
              "      <td>120.000000</td>\n",
              "      <td>120.000000</td>\n",
              "      <td>100.000000</td>\n",
              "      <td>580.000000</td>\n",
              "      <td>4.000000</td>\n",
              "    </tr>\n",
              "    <tr>\n",
              "      <th>75%</th>\n",
              "      <td>1.900048e+11</td>\n",
              "      <td>2019.0</td>\n",
              "      <td>3.549904e+06</td>\n",
              "      <td>35.000000</td>\n",
              "      <td>24.000000</td>\n",
              "      <td>1.000000</td>\n",
              "      <td>3.000000</td>\n",
              "      <td>1.000000</td>\n",
              "      <td>3.548708e+06</td>\n",
              "      <td>35.000000</td>\n",
              "      <td>2.000000</td>\n",
              "      <td>4.000000</td>\n",
              "      <td>2.000000</td>\n",
              "      <td>1.000000</td>\n",
              "      <td>0.000000</td>\n",
              "      <td>3.515510e+07</td>\n",
              "      <td>3.550308e+06</td>\n",
              "      <td>35.000000</td>\n",
              "      <td>2.000000</td>\n",
              "      <td>1.000000</td>\n",
              "      <td>1.000000</td>\n",
              "      <td>0.000000</td>\n",
              "      <td>0.000000</td>\n",
              "      <td>0.000000</td>\n",
              "      <td>0.000000</td>\n",
              "      <td>0.000000</td>\n",
              "      <td>0.000000</td>\n",
              "      <td>0.000000</td>\n",
              "      <td>0.000000</td>\n",
              "      <td>0.000000</td>\n",
              "      <td>0.000000</td>\n",
              "      <td>0.000000</td>\n",
              "      <td>0.000000</td>\n",
              "      <td>0.000000</td>\n",
              "      <td>0.000000</td>\n",
              "      <td>0.000000</td>\n",
              "      <td>0.000000</td>\n",
              "      <td>0.000000</td>\n",
              "      <td>0.000000</td>\n",
              "      <td>0.000000</td>\n",
              "      <td>0.000000</td>\n",
              "      <td>0.000000</td>\n",
              "      <td>0.000000</td>\n",
              "      <td>0.000000</td>\n",
              "      <td>0.000000</td>\n",
              "      <td>0.000000</td>\n",
              "      <td>0.000000</td>\n",
              "      <td>0.000000</td>\n",
              "      <td>0.000000</td>\n",
              "      <td>0.000000</td>\n",
              "      <td>0.000000</td>\n",
              "      <td>0.000000</td>\n",
              "      <td>0.0</td>\n",
              "      <td>0.000000</td>\n",
              "      <td>0.000000</td>\n",
              "      <td>0.000000</td>\n",
              "      <td>0.0</td>\n",
              "      <td>0.000000</td>\n",
              "      <td>0.000000</td>\n",
              "      <td>0.0</td>\n",
              "      <td>0.000000</td>\n",
              "      <td>0.000000</td>\n",
              "      <td>0.000000</td>\n",
              "      <td>0.0</td>\n",
              "      <td>0.0</td>\n",
              "      <td>0.000000</td>\n",
              "      <td>0.000000</td>\n",
              "      <td>0.000000</td>\n",
              "      <td>0.000000</td>\n",
              "      <td>0.0</td>\n",
              "      <td>0.000000</td>\n",
              "      <td>0.000000</td>\n",
              "      <td>3.549805e+06</td>\n",
              "      <td>35.000000</td>\n",
              "      <td>1.000000</td>\n",
              "      <td>1.000000</td>\n",
              "      <td>1.000000</td>\n",
              "      <td>1.000000</td>\n",
              "      <td>505.000000</td>\n",
              "      <td>510.000000</td>\n",
              "      <td>513.000000</td>\n",
              "      <td>518.000000</td>\n",
              "      <td>533.300000</td>\n",
              "      <td>567.100000</td>\n",
              "      <td>565.100000</td>\n",
              "      <td>598.200000</td>\n",
              "      <td>1.000000</td>\n",
              "      <td>1.000000</td>\n",
              "      <td>140.000000</td>\n",
              "      <td>140.000000</td>\n",
              "      <td>140.000000</td>\n",
              "      <td>140.000000</td>\n",
              "      <td>140.000000</td>\n",
              "      <td>680.000000</td>\n",
              "      <td>5.000000</td>\n",
              "    </tr>\n",
              "    <tr>\n",
              "      <th>max</th>\n",
              "      <td>1.900061e+11</td>\n",
              "      <td>2019.0</td>\n",
              "      <td>5.300108e+06</td>\n",
              "      <td>53.000000</td>\n",
              "      <td>82.000000</td>\n",
              "      <td>4.000000</td>\n",
              "      <td>5.000000</td>\n",
              "      <td>4.000000</td>\n",
              "      <td>5.300108e+06</td>\n",
              "      <td>53.000000</td>\n",
              "      <td>4.000000</td>\n",
              "      <td>13.000000</td>\n",
              "      <td>3.000000</td>\n",
              "      <td>2.000000</td>\n",
              "      <td>1.000000</td>\n",
              "      <td>5.308200e+07</td>\n",
              "      <td>5.300108e+06</td>\n",
              "      <td>53.000000</td>\n",
              "      <td>4.000000</td>\n",
              "      <td>2.000000</td>\n",
              "      <td>4.000000</td>\n",
              "      <td>1.000000</td>\n",
              "      <td>1.000000</td>\n",
              "      <td>1.000000</td>\n",
              "      <td>1.000000</td>\n",
              "      <td>1.000000</td>\n",
              "      <td>1.000000</td>\n",
              "      <td>1.000000</td>\n",
              "      <td>1.000000</td>\n",
              "      <td>1.000000</td>\n",
              "      <td>1.000000</td>\n",
              "      <td>1.000000</td>\n",
              "      <td>1.000000</td>\n",
              "      <td>1.000000</td>\n",
              "      <td>1.000000</td>\n",
              "      <td>1.000000</td>\n",
              "      <td>1.000000</td>\n",
              "      <td>1.000000</td>\n",
              "      <td>1.000000</td>\n",
              "      <td>1.000000</td>\n",
              "      <td>1.000000</td>\n",
              "      <td>1.000000</td>\n",
              "      <td>1.000000</td>\n",
              "      <td>1.000000</td>\n",
              "      <td>1.000000</td>\n",
              "      <td>1.000000</td>\n",
              "      <td>1.000000</td>\n",
              "      <td>1.000000</td>\n",
              "      <td>1.000000</td>\n",
              "      <td>1.000000</td>\n",
              "      <td>1.000000</td>\n",
              "      <td>1.000000</td>\n",
              "      <td>0.0</td>\n",
              "      <td>1.000000</td>\n",
              "      <td>1.000000</td>\n",
              "      <td>1.000000</td>\n",
              "      <td>0.0</td>\n",
              "      <td>1.000000</td>\n",
              "      <td>1.000000</td>\n",
              "      <td>0.0</td>\n",
              "      <td>1.000000</td>\n",
              "      <td>1.000000</td>\n",
              "      <td>1.000000</td>\n",
              "      <td>0.0</td>\n",
              "      <td>0.0</td>\n",
              "      <td>1.000000</td>\n",
              "      <td>1.000000</td>\n",
              "      <td>1.000000</td>\n",
              "      <td>1.000000</td>\n",
              "      <td>0.0</td>\n",
              "      <td>1.000000</td>\n",
              "      <td>1.000000</td>\n",
              "      <td>5.300108e+06</td>\n",
              "      <td>53.000000</td>\n",
              "      <td>2.000000</td>\n",
              "      <td>2.000000</td>\n",
              "      <td>2.000000</td>\n",
              "      <td>2.000000</td>\n",
              "      <td>545.000000</td>\n",
              "      <td>548.000000</td>\n",
              "      <td>552.000000</td>\n",
              "      <td>557.000000</td>\n",
              "      <td>797.300000</td>\n",
              "      <td>809.400000</td>\n",
              "      <td>801.700000</td>\n",
              "      <td>985.000000</td>\n",
              "      <td>1.000000</td>\n",
              "      <td>9.000000</td>\n",
              "      <td>200.000000</td>\n",
              "      <td>200.000000</td>\n",
              "      <td>200.000000</td>\n",
              "      <td>200.000000</td>\n",
              "      <td>200.000000</td>\n",
              "      <td>1000.000000</td>\n",
              "      <td>20.000000</td>\n",
              "    </tr>\n",
              "  </tbody>\n",
              "</table>\n",
              "</div>"
            ],
            "text/plain": [
              "       NU_INSCRICAO    NU_ANO  CO_MUNICIPIO_RESIDENCIA  CO_UF_RESIDENCIA  \\\n",
              "count  1.273800e+05  127380.0             1.273800e+05     127380.000000   \n",
              "mean   1.900035e+11    2019.0             3.086067e+06         30.709389   \n",
              "std    1.469535e+06       0.0             9.961399e+05          9.931060   \n",
              "min    1.900010e+11    2019.0             1.100015e+06         11.000000   \n",
              "25%    1.900023e+11    2019.0             2.405776e+06         24.000000   \n",
              "50%    1.900035e+11    2019.0             3.123779e+06         31.000000   \n",
              "75%    1.900048e+11    2019.0             3.549904e+06         35.000000   \n",
              "max    1.900061e+11    2019.0             5.300108e+06         53.000000   \n",
              "\n",
              "            NU_IDADE  TP_ESTADO_CIVIL    TP_COR_RACA  TP_NACIONALIDADE  \\\n",
              "count  127380.000000    127380.000000  127380.000000     127380.000000   \n",
              "mean       22.094355         1.076841       2.131198          1.029345   \n",
              "std         7.498707         0.440671       1.017373          0.202790   \n",
              "min        13.000000         0.000000       0.000000          0.000000   \n",
              "25%        18.000000         1.000000       1.000000          1.000000   \n",
              "50%        19.000000         1.000000       2.000000          1.000000   \n",
              "75%        24.000000         1.000000       3.000000          1.000000   \n",
              "max        82.000000         4.000000       5.000000          4.000000   \n",
              "\n",
              "       CO_MUNICIPIO_NASCIMENTO  CO_UF_NASCIMENTO  TP_ST_CONCLUSAO  \\\n",
              "count             1.237570e+05     123757.000000    127380.000000   \n",
              "mean              3.058310e+06         30.431103         1.540493   \n",
              "std               9.827584e+05          9.793934         0.716452   \n",
              "min               1.100015e+06         11.000000         1.000000   \n",
              "25%               2.313955e+06         23.000000         1.000000   \n",
              "50%               3.109402e+06         31.000000         1.000000   \n",
              "75%               3.548708e+06         35.000000         2.000000   \n",
              "max               5.300108e+06         53.000000         4.000000   \n",
              "\n",
              "       TP_ANO_CONCLUIU      TP_ESCOLA     TP_ENSINO   IN_TREINEIRO  \\\n",
              "count    127380.000000  127380.000000  71978.000000  127380.000000   \n",
              "mean          2.961870       1.330515      1.004585       0.120906   \n",
              "std           4.106733       0.555043      0.067556       0.326019   \n",
              "min           0.000000       1.000000      1.000000       0.000000   \n",
              "25%           0.000000       1.000000      1.000000       0.000000   \n",
              "50%           1.000000       1.000000      1.000000       0.000000   \n",
              "75%           4.000000       2.000000      1.000000       0.000000   \n",
              "max          13.000000       3.000000      2.000000       1.000000   \n",
              "\n",
              "          CO_ESCOLA  CO_MUNICIPIO_ESC     CO_UF_ESC  TP_DEPENDENCIA_ADM_ESC  \\\n",
              "count  2.862700e+04      2.862700e+04  28627.000000            28627.000000   \n",
              "mean   3.125412e+07      3.127669e+06     31.120690                2.257764   \n",
              "std    9.564098e+06      9.600084e+05      9.569764                0.755357   \n",
              "min    1.100006e+07      1.100015e+06     11.000000                1.000000   \n",
              "25%    2.400979e+07      2.402654e+06     24.000000                2.000000   \n",
              "50%    3.116655e+07      3.147105e+06     31.000000                2.000000   \n",
              "75%    3.515510e+07      3.550308e+06     35.000000                2.000000   \n",
              "max    5.308200e+07      5.300108e+06     53.000000                4.000000   \n",
              "\n",
              "       TP_LOCALIZACAO_ESC  TP_SIT_FUNC_ESC  IN_BAIXA_VISAO    IN_CEGUEIRA  \\\n",
              "count        28627.000000     28627.000000   127380.000000  127380.000000   \n",
              "mean             1.035037         1.005973        0.001099       0.000110   \n",
              "std              0.183876         0.122273        0.033134       0.010483   \n",
              "min              1.000000         1.000000        0.000000       0.000000   \n",
              "25%              1.000000         1.000000        0.000000       0.000000   \n",
              "50%              1.000000         1.000000        0.000000       0.000000   \n",
              "75%              1.000000         1.000000        0.000000       0.000000   \n",
              "max              2.000000         4.000000        1.000000       1.000000   \n",
              "\n",
              "           IN_SURDEZ  IN_DEFICIENCIA_AUDITIVA  IN_SURDO_CEGUEIRA  \\\n",
              "count  127380.000000            127380.000000      127380.000000   \n",
              "mean        0.000259                 0.000377           0.000008   \n",
              "std         0.016094                 0.019408           0.002802   \n",
              "min         0.000000                 0.000000           0.000000   \n",
              "25%         0.000000                 0.000000           0.000000   \n",
              "50%         0.000000                 0.000000           0.000000   \n",
              "75%         0.000000                 0.000000           0.000000   \n",
              "max         1.000000                 1.000000           1.000000   \n",
              "\n",
              "       IN_DEFICIENCIA_FISICA  IN_DEFICIENCIA_MENTAL  IN_DEFICIT_ATENCAO  \\\n",
              "count          127380.000000          127380.000000       127380.000000   \n",
              "mean                0.001499               0.000479            0.001704   \n",
              "std                 0.038694               0.021878            0.041239   \n",
              "min                 0.000000               0.000000            0.000000   \n",
              "25%                 0.000000               0.000000            0.000000   \n",
              "50%                 0.000000               0.000000            0.000000   \n",
              "75%                 0.000000               0.000000            0.000000   \n",
              "max                 1.000000               1.000000            1.000000   \n",
              "\n",
              "         IN_DISLEXIA  IN_DISCALCULIA     IN_AUTISMO  IN_VISAO_MONOCULAR  \\\n",
              "count  127380.000000   127380.000000  127380.000000       127380.000000   \n",
              "mean        0.000353        0.000055       0.000228            0.000228   \n",
              "std         0.018792        0.007413       0.015087            0.015087   \n",
              "min         0.000000        0.000000       0.000000            0.000000   \n",
              "25%         0.000000        0.000000       0.000000            0.000000   \n",
              "50%         0.000000        0.000000       0.000000            0.000000   \n",
              "75%         0.000000        0.000000       0.000000            0.000000   \n",
              "max         1.000000        1.000000       1.000000            1.000000   \n",
              "\n",
              "        IN_OUTRA_DEF    IN_GESTANTE    IN_LACTANTE       IN_IDOSO  \\\n",
              "count  127380.000000  127380.000000  127380.000000  127380.000000   \n",
              "mean        0.000659       0.000251       0.000746       0.000047   \n",
              "std         0.025671       0.015848       0.027299       0.006863   \n",
              "min         0.000000       0.000000       0.000000       0.000000   \n",
              "25%         0.000000       0.000000       0.000000       0.000000   \n",
              "50%         0.000000       0.000000       0.000000       0.000000   \n",
              "75%         0.000000       0.000000       0.000000       0.000000   \n",
              "max         1.000000       1.000000       1.000000       1.000000   \n",
              "\n",
              "       IN_ESTUDA_CLASSE_HOSPITALAR  IN_SEM_RECURSO     IN_BRAILLE  \\\n",
              "count                127380.000000   127380.000000  127380.000000   \n",
              "mean                      0.000008        0.001342       0.000039   \n",
              "std                       0.002802        0.036615       0.006265   \n",
              "min                       0.000000        0.000000       0.000000   \n",
              "25%                       0.000000        0.000000       0.000000   \n",
              "50%                       0.000000        0.000000       0.000000   \n",
              "75%                       0.000000        0.000000       0.000000   \n",
              "max                       1.000000        1.000000       1.000000   \n",
              "\n",
              "       IN_AMPLIADA_24  IN_AMPLIADA_18       IN_LEDOR      IN_ACESSO  \\\n",
              "count   127380.000000   127380.000000  127380.000000  127380.000000   \n",
              "mean         0.000181        0.000801       0.001248       0.001515   \n",
              "std          0.013436        0.028286       0.035308       0.038896   \n",
              "min          0.000000        0.000000       0.000000       0.000000   \n",
              "25%          0.000000        0.000000       0.000000       0.000000   \n",
              "50%          0.000000        0.000000       0.000000       0.000000   \n",
              "75%          0.000000        0.000000       0.000000       0.000000   \n",
              "max          1.000000        1.000000       1.000000       1.000000   \n",
              "\n",
              "       IN_TRANSCRICAO      IN_LIBRAS  IN_TEMPO_ADICIONAL  IN_LEITURA_LABIAL  \\\n",
              "count   127380.000000  127380.000000       127380.000000      127380.000000   \n",
              "mean         0.001185       0.000188            0.002544           0.000110   \n",
              "std          0.034410       0.013725            0.050370           0.010483   \n",
              "min          0.000000       0.000000            0.000000           0.000000   \n",
              "25%          0.000000       0.000000            0.000000           0.000000   \n",
              "50%          0.000000       0.000000            0.000000           0.000000   \n",
              "75%          0.000000       0.000000            0.000000           0.000000   \n",
              "max          1.000000       1.000000            1.000000           1.000000   \n",
              "\n",
              "       IN_MESA_CADEIRA_RODAS  IN_MESA_CADEIRA_SEPARADA  IN_APOIO_PERNA  \\\n",
              "count          127380.000000             127380.000000   127380.000000   \n",
              "mean                0.000322                  0.000275        0.000455   \n",
              "std                 0.017938                  0.016574        0.021334   \n",
              "min                 0.000000                  0.000000        0.000000   \n",
              "25%                 0.000000                  0.000000        0.000000   \n",
              "50%                 0.000000                  0.000000        0.000000   \n",
              "75%                 0.000000                  0.000000        0.000000   \n",
              "max                 1.000000                  1.000000        1.000000   \n",
              "\n",
              "       IN_GUIA_INTERPRETE  IN_COMPUTADOR  IN_CADEIRA_ESPECIAL  \\\n",
              "count       127380.000000       127380.0        127380.000000   \n",
              "mean             0.000008            0.0             0.000008   \n",
              "std              0.002802            0.0             0.002802   \n",
              "min              0.000000            0.0             0.000000   \n",
              "25%              0.000000            0.0             0.000000   \n",
              "50%              0.000000            0.0             0.000000   \n",
              "75%              0.000000            0.0             0.000000   \n",
              "max              1.000000            0.0             1.000000   \n",
              "\n",
              "       IN_CADEIRA_CANHOTO  IN_CADEIRA_ACOLCHOADA  IN_PROVA_DEITADO  \\\n",
              "count       127380.000000          127380.000000          127380.0   \n",
              "mean             0.000008               0.000016               0.0   \n",
              "std              0.002802               0.003962               0.0   \n",
              "min              0.000000               0.000000               0.0   \n",
              "25%              0.000000               0.000000               0.0   \n",
              "50%              0.000000               0.000000               0.0   \n",
              "75%              0.000000               0.000000               0.0   \n",
              "max              1.000000               1.000000               0.0   \n",
              "\n",
              "       IN_MOBILIARIO_OBESO  IN_LAMINA_OVERLAY  IN_PROTETOR_AURICULAR  \\\n",
              "count        127380.000000      127380.000000               127380.0   \n",
              "mean              0.000008           0.000008                    0.0   \n",
              "std               0.002802           0.002802                    0.0   \n",
              "min               0.000000           0.000000                    0.0   \n",
              "25%               0.000000           0.000000                    0.0   \n",
              "50%               0.000000           0.000000                    0.0   \n",
              "75%               0.000000           0.000000                    0.0   \n",
              "max               1.000000           1.000000                    0.0   \n",
              "\n",
              "       IN_MEDIDOR_GLICOSE  IN_MAQUINA_BRAILE     IN_SOROBAN  IN_MARCA_PASSO  \\\n",
              "count       127380.000000      127380.000000  127380.000000        127380.0   \n",
              "mean             0.000118           0.000016       0.000008             0.0   \n",
              "std              0.010851           0.003962       0.002802             0.0   \n",
              "min              0.000000           0.000000       0.000000             0.0   \n",
              "25%              0.000000           0.000000       0.000000             0.0   \n",
              "50%              0.000000           0.000000       0.000000             0.0   \n",
              "75%              0.000000           0.000000       0.000000             0.0   \n",
              "max              1.000000           1.000000       1.000000             0.0   \n",
              "\n",
              "       IN_SONDA  IN_MEDICAMENTOS  IN_SALA_INDIVIDUAL  IN_SALA_ESPECIAL  \\\n",
              "count  127380.0    127380.000000       127380.000000     127380.000000   \n",
              "mean        0.0         0.000079            0.000031          0.000063   \n",
              "std         0.0         0.008860            0.005604          0.007925   \n",
              "min         0.0         0.000000            0.000000          0.000000   \n",
              "25%         0.0         0.000000            0.000000          0.000000   \n",
              "50%         0.0         0.000000            0.000000          0.000000   \n",
              "75%         0.0         0.000000            0.000000          0.000000   \n",
              "max         0.0         1.000000            1.000000          1.000000   \n",
              "\n",
              "       IN_SALA_ACOMPANHANTE  IN_MOBILIARIO_ESPECIFICO  IN_MATERIAL_ESPECIFICO  \\\n",
              "count         127380.000000                  127380.0           127380.000000   \n",
              "mean               0.000008                       0.0                0.000047   \n",
              "std                0.002802                       0.0                0.006863   \n",
              "min                0.000000                       0.0                0.000000   \n",
              "25%                0.000000                       0.0                0.000000   \n",
              "50%                0.000000                       0.0                0.000000   \n",
              "75%                0.000000                       0.0                0.000000   \n",
              "max                1.000000                       0.0                1.000000   \n",
              "\n",
              "       IN_NOME_SOCIAL  CO_MUNICIPIO_PROVA    CO_UF_PROVA  TP_PRESENCA_CN  \\\n",
              "count   127380.000000        1.273800e+05  127380.000000   127380.000000   \n",
              "mean         0.000079        3.088090e+06      30.730735        0.729016   \n",
              "std          0.008860        9.966122e+05       9.935942        0.445387   \n",
              "min          0.000000        1.100015e+06      11.000000        0.000000   \n",
              "25%          0.000000        2.408003e+06      24.000000        0.000000   \n",
              "50%          0.000000        3.123956e+06      31.000000        1.000000   \n",
              "75%          0.000000        3.549805e+06      35.000000        1.000000   \n",
              "max          1.000000        5.300108e+06      53.000000        2.000000   \n",
              "\n",
              "       TP_PRESENCA_CH  TP_PRESENCA_LC  TP_PRESENCA_MT   CO_PROVA_CN  \\\n",
              "count   127380.000000   127380.000000   127380.000000  92758.000000   \n",
              "mean         0.771667        0.771667        0.729016    504.508538   \n",
              "std          0.422110        0.422110        0.445387      1.197953   \n",
              "min          0.000000        0.000000        0.000000    503.000000   \n",
              "25%          1.000000        1.000000        0.000000    504.000000   \n",
              "50%          1.000000        1.000000        1.000000    505.000000   \n",
              "75%          1.000000        1.000000        1.000000    505.000000   \n",
              "max          2.000000        2.000000        2.000000    545.000000   \n",
              "\n",
              "        CO_PROVA_CH   CO_PROVA_LC   CO_PROVA_MT    NU_NOTA_CN    NU_NOTA_CH  \\\n",
              "count  98043.000000  98043.000000  92758.000000  92758.000000  98043.000000   \n",
              "mean     508.511745    512.506910    516.509864    477.964015    507.365912   \n",
              "std        1.185302      1.163769      1.146852     76.296099     82.972839   \n",
              "min      507.000000    511.000000    515.000000      0.000000      0.000000   \n",
              "25%      508.000000    512.000000    516.000000    418.000000    447.900000   \n",
              "50%      509.000000    513.000000    517.000000    470.200000    510.900000   \n",
              "75%      510.000000    513.000000    518.000000    533.300000    567.100000   \n",
              "max      548.000000    552.000000    557.000000    797.300000    809.400000   \n",
              "\n",
              "         NU_NOTA_LC    NU_NOTA_MT      TP_LINGUA  TP_STATUS_REDACAO  \\\n",
              "count  98043.000000  92758.000000  127380.000000       98043.000000   \n",
              "mean     520.463928    523.555206       0.524486           1.136155   \n",
              "std       64.556578    109.416939       0.499402           0.777411   \n",
              "min        0.000000      0.000000       0.000000           1.000000   \n",
              "25%      483.700000    435.300000       0.000000           1.000000   \n",
              "50%      526.100000    501.600000       1.000000           1.000000   \n",
              "75%      565.100000    598.200000       1.000000           1.000000   \n",
              "max      801.700000    985.000000       1.000000           9.000000   \n",
              "\n",
              "       NU_NOTA_COMP1  NU_NOTA_COMP2  NU_NOTA_COMP3  NU_NOTA_COMP4  \\\n",
              "count   98043.000000   98043.000000   98043.000000   98043.000000   \n",
              "mean      120.554859     122.912396     114.901013     121.682323   \n",
              "std        33.250346      42.786693      40.030347      37.953250   \n",
              "min         0.000000       0.000000       0.000000       0.000000   \n",
              "25%       120.000000     120.000000     100.000000     100.000000   \n",
              "50%       120.000000     120.000000     120.000000     120.000000   \n",
              "75%       140.000000     140.000000     140.000000     140.000000   \n",
              "max       200.000000     200.000000     200.000000     200.000000   \n",
              "\n",
              "       NU_NOTA_COMP5  NU_NOTA_REDACAO           Q005  \n",
              "count   98043.000000     98043.000000  127380.000000  \n",
              "mean       91.519435       571.570025       3.864068  \n",
              "std        59.380566       188.076455       1.475714  \n",
              "min         0.000000         0.000000       1.000000  \n",
              "25%        40.000000       480.000000       3.000000  \n",
              "50%       100.000000       580.000000       4.000000  \n",
              "75%       140.000000       680.000000       5.000000  \n",
              "max       200.000000      1000.000000      20.000000  "
            ]
          },
          "metadata": {
            "tags": []
          },
          "execution_count": 5
        }
      ]
    },
    {
      "cell_type": "code",
      "metadata": {
        "id": "9oBZUNp2Px4V",
        "outputId": "bbc9fbd7-76c1-4b33-913c-25ba4d3f2d6f",
        "colab": {
          "base_uri": "https://localhost:8080/",
          "height": 204
        }
      },
      "source": [
        "enem.columns[enem.isnull().any()]"
      ],
      "execution_count": 6,
      "outputs": [
        {
          "output_type": "execute_result",
          "data": {
            "text/plain": [
              "Index(['CO_MUNICIPIO_NASCIMENTO', 'NO_MUNICIPIO_NASCIMENTO',\n",
              "       'CO_UF_NASCIMENTO', 'SG_UF_NASCIMENTO', 'TP_ENSINO', 'CO_ESCOLA',\n",
              "       'CO_MUNICIPIO_ESC', 'NO_MUNICIPIO_ESC', 'CO_UF_ESC', 'SG_UF_ESC',\n",
              "       'TP_DEPENDENCIA_ADM_ESC', 'TP_LOCALIZACAO_ESC', 'TP_SIT_FUNC_ESC',\n",
              "       'CO_PROVA_CN', 'CO_PROVA_CH', 'CO_PROVA_LC', 'CO_PROVA_MT',\n",
              "       'NU_NOTA_CN', 'NU_NOTA_CH', 'NU_NOTA_LC', 'NU_NOTA_MT',\n",
              "       'TX_RESPOSTAS_CN', 'TX_RESPOSTAS_CH', 'TX_RESPOSTAS_LC',\n",
              "       'TX_RESPOSTAS_MT', 'TX_GABARITO_CN', 'TX_GABARITO_CH', 'TX_GABARITO_LC',\n",
              "       'TX_GABARITO_MT', 'TP_STATUS_REDACAO', 'NU_NOTA_COMP1', 'NU_NOTA_COMP2',\n",
              "       'NU_NOTA_COMP3', 'NU_NOTA_COMP4', 'NU_NOTA_COMP5', 'NU_NOTA_REDACAO'],\n",
              "      dtype='object')"
            ]
          },
          "metadata": {
            "tags": []
          },
          "execution_count": 6
        }
      ]
    },
    {
      "cell_type": "markdown",
      "metadata": {
        "id": "FPBnuP3y2wO4"
      },
      "source": [
        "#4. ESTATÍSTICAS SOCIODEMOGRÁFICAS "
      ]
    },
    {
      "cell_type": "code",
      "metadata": {
        "id": "PwwySdVhdmMx",
        "outputId": "e8f10ba7-590f-4be4-c3fc-3c5cd0fc490c",
        "colab": {
          "base_uri": "https://localhost:8080/",
          "height": 387
        }
      },
      "source": [
        "fig, ax = plt.subplots(figsize=(10,6))\n",
        "enem['TP_SEXO'].value_counts().plot(kind='pie', ax=ax, cmap='Pastel2', autopct='%.2f')\n",
        "plt.title('Porcentagem de inscritos por sexo', pad=20, fontsize=12, color='black')\n",
        "sns.despine()\n",
        "plt.ylabel('')\n",
        "plt.show()"
      ],
      "execution_count": 100,
      "outputs": [
        {
          "output_type": "display_data",
          "data": {
            "image/png": "[encoded data removed]",
            "text/plain": [
              "<Figure size 720x432 with 1 Axes>"
            ]
          },
          "metadata": {
            "tags": []
          }
        }
      ]
    },
    {
      "cell_type": "code",
      "metadata": {
        "id": "bjwko6YcLMV_",
        "outputId": "c02e3f24-360f-419c-d964-b19088cbeb06",
        "colab": {
          "base_uri": "https://localhost:8080/",
          "height": 434
        }
      },
      "source": [
        "fig, ax = plt.subplots(figsize=(10,6))\n",
        "sns.histplot(data=enem, x='NU_IDADE', hue='IN_TREINEIRO', bins=50, ax=ax, palette='Dark2_r')\n",
        "plt.title('Histograma das idades por situação de treineiro', pad=20, fontsize=12, color='black')\n",
        "sns.despine()\n",
        "plt.xlabel('Idades', labelpad=20)\n",
        "plt.ylabel('Frequência', labelpad=20)\n",
        "plt.show()"
      ],
      "execution_count": 88,
      "outputs": [
        {
          "output_type": "display_data",
          "data": {
            "image/png": "[encoded data removed]",
            "text/plain": [
              "<Figure size 720x432 with 1 Axes>"
            ]
          },
          "metadata": {
            "tags": [],
            "needs_background": "light"
          }
        }
      ]
    },
    {
      "cell_type": "code",
      "metadata": {
        "id": "HDo4cCTNZ_Y1",
        "outputId": "cb15b20e-4f22-44da-9f27-1f283c2cf769",
        "colab": {
          "base_uri": "https://localhost:8080/",
          "height": 440
        }
      },
      "source": [
        "fig, ax = plt.subplots(figsize=(10,6))\n",
        "enem['SG_UF_RESIDENCIA'].value_counts().plot(kind='bar')\n",
        "plt.title('Quantidade de inscritos por UF', pad=20, fontsize=12, color='black')\n",
        "plt.xlabel('Unidades Federativas', labelpad=20)\n",
        "plt.ylabel('Frequência', labelpad=20)\n",
        "sns.despine()\n",
        "plt.show()"
      ],
      "execution_count": 9,
      "outputs": [
        {
          "output_type": "display_data",
          "data": {
            "image/png": "[encoded data removed]",
            "text/plain": [
              "<Figure size 720x432 with 1 Axes>"
            ]
          },
          "metadata": {
            "tags": [],
            "needs_background": "light"
          }
        }
      ]
    },
    {
      "cell_type": "markdown",
      "metadata": {
        "id": "J_OFHwSUfnf1"
      },
      "source": [
        ""
      ]
    },
    {
      "cell_type": "code",
      "metadata": {
        "id": "0ie7BtdRGmZG"
      },
      "source": [
        "mapa_brasil = gpd.read_file('https://raw.githubusercontent.com/vinismachadoo/alura_imersao_dados_2/main/uf_brasil.geojson')"
      ],
      "execution_count": 7,
      "outputs": []
    },
    {
      "cell_type": "code",
      "metadata": {
        "id": "L7eWYqu0HkNN"
      },
      "source": [
        "mapa_brasil['codigo_ibg'] = mapa_brasil['codigo_ibg'].astype('int')"
      ],
      "execution_count": 8,
      "outputs": []
    },
    {
      "cell_type": "code",
      "metadata": {
        "id": "pQEPlc3hH4oU"
      },
      "source": [
        "inscritos_por_estado = pd.concat([mapa_brasil.set_index('codigo_ibg'), enem['CO_UF_RESIDENCIA'].value_counts()], axis=1)"
      ],
      "execution_count": 10,
      "outputs": []
    },
    {
      "cell_type": "code",
      "metadata": {
        "id": "dhWwKL1RHMnk",
        "outputId": "d02b38fb-577b-46d4-be63-92d65dc26a1b",
        "colab": {
          "base_uri": "https://localhost:8080/",
          "height": 610
        }
      },
      "source": [
        "fig,ax = plt.subplots(figsize=(16,10))\n",
        "inscritos_por_estado.plot(ax=ax, column='CO_UF_RESIDENCIA', cmap='inferno_r', legend=True, vmin=0)\n",
        "sns.despine(bottom=True, left=True)\n",
        "plt.title('Quantidade de inscritos por UF', pad=20, fontsize=12, color='black')\n",
        "ax.set_yticks([])\n",
        "ax.set_xticks([])\n",
        "plt.show()"
      ],
      "execution_count": 11,
      "outputs": [
        {
          "output_type": "display_data",
          "data": {
            "image/png": "[encoded data removed]",
            "text/plain": [
              "<Figure size 1152x720 with 2 Axes>"
            ]
          },
          "metadata": {
            "tags": [],
            "needs_background": "light"
          }
        }
      ]
    },
    {
      "cell_type": "code",
      "metadata": {
        "id": "HXc0K8ZNI5Zm"
      },
      "source": [
        "relacao_renda_raca = enem.groupby('Q006')['TP_COR_RACA'].value_counts(normalize=True).unstack()\n",
        "relacao_renda_raca.rename(columns={0:'Não declarado',1:'Branca',2:'Preta',3:'Parda',4:'Amarela',5:'Indígena'}, inplace=True)"
      ],
      "execution_count": 12,
      "outputs": []
    },
    {
      "cell_type": "code",
      "metadata": {
        "id": "K5d2IJbNMXxZ",
        "outputId": "ff402f1f-0246-40fb-d804-f7f54de553ef",
        "colab": {
          "base_uri": "https://localhost:8080/",
          "height": 433
        }
      },
      "source": [
        "fig, ax = plt.subplots(figsize=(10,6))\n",
        "relacao_renda_raca.plot(kind='bar', stacked=True, colormap='Set3_r', ax=ax)\n",
        "plt.title('Distribuição por raça em cada classe de renda familiar', pad=20, fontsize=12, color='black')\n",
        "plt.xlabel('Classes de renda familiar', labelpad=20)\n",
        "plt.ylabel('Porcentagem', labelpad=20)\n",
        "sns.despine()\n",
        "plt.legend()\n",
        "plt.show()"
      ],
      "execution_count": 13,
      "outputs": [
        {
          "output_type": "display_data",
          "data": {
            "image/png": "[encoded data removed]",
            "text/plain": [
              "<Figure size 720x432 with 1 Axes>"
            ]
          },
          "metadata": {
            "tags": [],
            "needs_background": "light"
          }
        }
      ]
    },
    {
      "cell_type": "markdown",
      "metadata": {
        "id": "o1L4RN-NAnLb"
      },
      "source": [
        "#5. LISTAS E VARIÁVEIS AUXILIARES \n",
        "\n",
        "É bastante comum que ao longo da análise sejam necessárias listagens ordenadas para organizar os gráficos e aprimorar a visualização dos dados, além de variáveis (colunas) que são criadas a partir de outras variáveis e não existem na base de dados originais. Esta seção foi dedicada exclusivamente para esta finalidade, de forma a concentrar estas informações facilitando o desenvolvimento da análise e o entendimento do leitor."
      ]
    },
    {
      "cell_type": "code",
      "metadata": {
        "id": "atbaNcZWMjfw"
      },
      "source": [
        "# Classes de renda, de A até Q, em ordem crescente\n",
        "classes_renda = enem['Q006'].unique()\n",
        "classes_renda.sort()"
      ],
      "execution_count": 16,
      "outputs": []
    },
    {
      "cell_type": "code",
      "metadata": {
        "id": "oB-fwcc5MjMB"
      },
      "source": [
        "# Colunas da base de dados que tem as notas das 5 provas realizadas\n",
        "provas = ['NU_NOTA_CN','NU_NOTA_MT','NU_NOTA_CH','NU_NOTA_LC','NU_NOTA_REDACAO']"
      ],
      "execution_count": 17,
      "outputs": []
    },
    {
      "cell_type": "code",
      "metadata": {
        "id": "WIdQ6GD77kKm"
      },
      "source": [
        "# Criação de nova coluna indicando se o candidato reside em um municipio e fez a prova em outro\n",
        "enem.loc[enem['CO_MUNICIPIO_RESIDENCIA'] != enem['CO_MUNICIPIO_PROVA'], 'MUN_RES_E_MUN_PROVA'] = 'Diferente'\n",
        "enem['MUN_RES_E_MUN_PROVA'].fillna('Igual', inplace=True)"
      ],
      "execution_count": 18,
      "outputs": []
    },
    {
      "cell_type": "code",
      "metadata": {
        "id": "cQqUV8Yu93hm"
      },
      "source": [
        "# Criação de nova coluna indicando se o candidato tem carro e/ou moto\n",
        "enem.loc[enem['Q010'] == 'A', 'TEM_CARRO_OU_MOTO'] = 'Não'\n",
        "enem.loc[enem['Q011'] == 'A', 'TEM_CARRO_OU_MOTO'] = 'Não'\n",
        "enem['TEM_CARRO_OU_MOTO'].fillna('Sim', inplace=True)"
      ],
      "execution_count": 19,
      "outputs": []
    },
    {
      "cell_type": "code",
      "metadata": {
        "id": "uNoSHPkDA_4B"
      },
      "source": [
        "# Ajustando os 8 status possíveis da redação para zerada ou sem problemas\n",
        "enem.loc[enem['TP_STATUS_REDACAO'] != 1, 'TP_STATUS_REDACAO'] = 'Zerada'\n",
        "enem['TP_STATUS_REDACAO'].replace(1,'Sem problemas', inplace=True)"
      ],
      "execution_count": 20,
      "outputs": []
    },
    {
      "cell_type": "code",
      "metadata": {
        "id": "H6T5b13JD99F"
      },
      "source": [
        "# Ajeitando a coluna de treineiro com Não=0 e Sim=1\n",
        "enem.loc[enem['IN_TREINEIRO'] == 1, 'IN_TREINEIRO'] = 'Sim'\n",
        "enem['IN_TREINEIRO'].replace(0,'Não', inplace=True)"
      ],
      "execution_count": 21,
      "outputs": []
    },
    {
      "cell_type": "code",
      "metadata": {
        "id": "hdbn8WzoMYWR"
      },
      "source": [
        "# Criação de nova coluna indicando o somatório de pontos do candidato\n",
        "enem[\"NU_NOTA_SOMA\"] = enem[provas].sum(axis=1)"
      ],
      "execution_count": 22,
      "outputs": []
    },
    {
      "cell_type": "markdown",
      "metadata": {
        "id": "UwRkdyxnP6Q5"
      },
      "source": [
        "#6. INSCRITOS FALTOSOS\n",
        "\n",
        "Como explicado na introdução, o exame é realizado em 2 domingos consecutivos e, portanto, o estudante tem 2 chances de encontrar o portão fechado. A primeira análise realizada partiu da hipótese que se o candidato perde a prova no primeiro dia ele não comparece ao segundo dia. \n",
        "\n",
        "Esta hipótese foi confirmada constatando que 99.27% dos candidatos ausentes no primeiro dia não apareceram no domingo seguinte. Esta constatação é condizente com o esperado haja vista que o candidato que zera alguma prova não está apto a se cadastrar no sisu para tentar vaga em alguma universidade pública ou algum programa do governo federal.\n",
        "\n",
        "Dito isso, considerou-se como candidato faltoso, aquele que não compareceu há pelo menos um domingo. Complementariamente, considerou-se como candidato presente aquele que compareceu aos dois dias do exame."
      ]
    },
    {
      "cell_type": "code",
      "metadata": {
        "id": "X8Ktdky10TQ6",
        "outputId": "730151e1-3437-46b7-97fd-42d6c7176e04",
        "colab": {
          "base_uri": "https://localhost:8080/",
          "height": 173
        }
      },
      "source": [
        "enem.groupby('TP_PRESENCA_CH')['TP_PRESENCA_MT'].value_counts(normalize=True).unstack().rename(columns={0:'Falta',1:'Presente',2:'Eliminado'},\n",
        "                                                                                               index={0:'Falta',1:'Presente',2:'Eliminado'})"
      ],
      "execution_count": 23,
      "outputs": [
        {
          "output_type": "execute_result",
          "data": {
            "text/html": [
              "<div>\n",
              "<style scoped>\n",
              "    .dataframe tbody tr th:only-of-type {\n",
              "        vertical-align: middle;\n",
              "    }\n",
              "\n",
              "    .dataframe tbody tr th {\n",
              "        vertical-align: top;\n",
              "    }\n",
              "\n",
              "    .dataframe thead th {\n",
              "        text-align: right;\n",
              "    }\n",
              "</style>\n",
              "<table border=\"1\" class=\"dataframe\">\n",
              "  <thead>\n",
              "    <tr style=\"text-align: right;\">\n",
              "      <th>TP_PRESENCA_MT</th>\n",
              "      <th>Falta</th>\n",
              "      <th>Presente</th>\n",
              "      <th>Eliminado</th>\n",
              "    </tr>\n",
              "    <tr>\n",
              "      <th>TP_PRESENCA_CH</th>\n",
              "      <th></th>\n",
              "      <th></th>\n",
              "      <th></th>\n",
              "    </tr>\n",
              "  </thead>\n",
              "  <tbody>\n",
              "    <tr>\n",
              "      <th>Falta</th>\n",
              "      <td>0.992708</td>\n",
              "      <td>0.007292</td>\n",
              "      <td>NaN</td>\n",
              "    </tr>\n",
              "    <tr>\n",
              "      <th>Presente</th>\n",
              "      <td>0.055608</td>\n",
              "      <td>0.943861</td>\n",
              "      <td>0.00053</td>\n",
              "    </tr>\n",
              "    <tr>\n",
              "      <th>Eliminado</th>\n",
              "      <td>0.952381</td>\n",
              "      <td>0.047619</td>\n",
              "      <td>NaN</td>\n",
              "    </tr>\n",
              "  </tbody>\n",
              "</table>\n",
              "</div>"
            ],
            "text/plain": [
              "TP_PRESENCA_MT     Falta  Presente  Eliminado\n",
              "TP_PRESENCA_CH                               \n",
              "Falta           0.992708  0.007292        NaN\n",
              "Presente        0.055608  0.943861    0.00053\n",
              "Eliminado       0.952381  0.047619        NaN"
            ]
          },
          "metadata": {
            "tags": []
          },
          "execution_count": 23
        }
      ]
    },
    {
      "cell_type": "markdown",
      "metadata": {
        "id": "IAJH5bducslE"
      },
      "source": [
        "A segunda hipótese levantada foi se existia alguma relação do não comparecimento do inscrito com o local de aplicação da prova. Acontece que o estudante pode ser alocado para um município (ou até mesmo estado) diferente do qual reside por falta de escolas com estrutura de aplicação. Outro fator que piora o cenário é a posse de carro ou moto na residência visto depender do transporte público no Brasil em circunstâncias normais já é desgastante para o candidato, tendo que ir para outra cidade pode sim ser um fator para desistência de prestar o exame."
      ]
    },
    {
      "cell_type": "code",
      "metadata": {
        "id": "nZud9JCM1sI3"
      },
      "source": [
        "# Inscritos que não estavam presentes na prova de ciencias humanas (dia 1) ou na prova de matemática (dia 2)\n",
        "enem_faltosos = enem[(enem['TP_PRESENCA_CH'] == 0) | (enem['TP_PRESENCA_MT'] == 0)]"
      ],
      "execution_count": 24,
      "outputs": []
    },
    {
      "cell_type": "code",
      "metadata": {
        "id": "j6B46kGD6m3b"
      },
      "source": [
        "# Quantidade por local de prova diferente de onde reside e posse de carro ou moto\n",
        "tmp = enem_faltosos.groupby('MUN_RES_E_MUN_PROVA')['TEM_CARRO_OU_MOTO'].value_counts()\n",
        "relacao_municipio_prova_veiculo = [f'{round(tmp[i]*100/tmp.sum(),2)}%' for i in tmp.index]"
      ],
      "execution_count": 80,
      "outputs": []
    },
    {
      "cell_type": "code",
      "metadata": {
        "id": "C8AnWNBLa8rB",
        "outputId": "b0e85c48-16c5-43e8-d911-388308e73270",
        "colab": {
          "base_uri": "https://localhost:8080/",
          "height": 34
        }
      },
      "source": [
        "relacao_municipio_prova_veiculo"
      ],
      "execution_count": 97,
      "outputs": [
        {
          "output_type": "execute_result",
          "data": {
            "text/plain": [
              "['15.8%', '1.83%', '75.55%', '6.82%']"
            ]
          },
          "metadata": {
            "tags": []
          },
          "execution_count": 97
        }
      ]
    },
    {
      "cell_type": "code",
      "metadata": {
        "id": "dCxWid_8TFQq",
        "outputId": "64f779df-deae-4dd3-957d-9fb0e5e2a125",
        "colab": {
          "base_uri": "https://localhost:8080/",
          "height": 414
        }
      },
      "source": [
        "# Diagrama de Venn para visualizar a relacao acima \n",
        "fig, ax = plt.subplots(figsize=(10,6))\n",
        "\n",
        "v = venn2(subsets = (2,2,2), set_labels = ('Realizaria a prova\\nem outro municipio', 'Possui carro ou moto\\nna residência'), ax=ax)\n",
        "v.get_patch_by_id('10').set_color('red')\n",
        "v.get_patch_by_id('01').set_color('yellow')\n",
        "v.get_patch_by_id('11').set_color('orange')\n",
        "v.get_label_by_id('10').set_text(relacao_municipio_prova_veiculo[2])\n",
        "v.get_label_by_id('01').set_text(relacao_municipio_prova_veiculo[3])\n",
        "v.get_label_by_id('11').set_text(relacao_municipio_prova_veiculo[1])\n",
        "\n",
        "plt.title('Candidatos faltosos segundo posse de carro ou moto na residência\\ne alocados para fazer o exame em outro município', \n",
        "          pad=20, fontsize=12, color='black')\n",
        "plt.show()"
      ],
      "execution_count": 98,
      "outputs": [
        {
          "output_type": "display_data",
          "data": {
            "image/png": "[encoded data removed]",
            "text/plain": [
              "<Figure size 720x432 with 1 Axes>"
            ]
          },
          "metadata": {
            "tags": []
          }
        }
      ]
    },
    {
      "cell_type": "markdown",
      "metadata": {
        "id": "t79Px7kxar-x"
      },
      "source": [
        "O que foi observado é que mais 75% dos candidatos que faltaram pelo menos um dos dias realizaria a prova em outro município e não tinham carro ou moto para se transportar. Apenas 7% dos inscritos faltaram o exame tendo carro ou moto na residência e realizariam o exame no mesmo município de residência.\n",
        "\n",
        "Vale ressaltar que não é possível saber o motivo concreto da ausência do inscrito, pretende-se apenas mostrar que este fatores combinados podem ter sido decisivos na presença (ou não) ao local da prova."
      ]
    },
    {
      "cell_type": "markdown",
      "metadata": {
        "id": "WdAEriS-O8NF"
      },
      "source": [
        "#7. ANALISANDO OS CANDIDATOS DO ENEM"
      ]
    },
    {
      "cell_type": "code",
      "metadata": {
        "id": "A1ThJK-txE6m"
      },
      "source": [
        "enem_presentes = enem[(enem['TP_PRESENCA_CH'] == 1) & (enem['TP_PRESENCA_MT'] == 1)]"
      ],
      "execution_count": 105,
      "outputs": []
    },
    {
      "cell_type": "code",
      "metadata": {
        "id": "pZmLE8quhB9B",
        "outputId": "e805a027-f554-453f-a99a-e3db829e6e78",
        "colab": {
          "base_uri": "https://localhost:8080/",
          "height": 68
        }
      },
      "source": [
        "enem_presentes['TP_STATUS_REDACAO'].value_counts()"
      ],
      "execution_count": 28,
      "outputs": [
        {
          "output_type": "execute_result",
          "data": {
            "text/plain": [
              "Sem problemas    89977\n",
              "Zerada            2562\n",
              "Name: TP_STATUS_REDACAO, dtype: int64"
            ]
          },
          "metadata": {
            "tags": []
          },
          "execution_count": 28
        }
      ]
    },
    {
      "cell_type": "code",
      "metadata": {
        "id": "s3dX-nc0B5Ik",
        "outputId": "a55c97b6-a224-4b24-f79a-84a3fe297705",
        "colab": {
          "base_uri": "https://localhost:8080/",
          "height": 419
        }
      },
      "source": [
        "fig, ax = plt.subplots(figsize=(10,6))\n",
        "enem_presentes[enem_presentes['TP_STATUS_REDACAO'] == 'Zerada']['Q006'].value_counts().sort_index().plot(kind='bar', color='mediumseagreen')\n",
        "plt.title('Quantidade de redações zeradas por renda familiar')\n",
        "plt.xlabel('Classes de renda familiar', labelpad=20)\n",
        "plt.ylabel('Frequência', labelpad=20)\n",
        "sns.despine()\n",
        "plt.show()"
      ],
      "execution_count": 108,
      "outputs": [
        {
          "output_type": "display_data",
          "data": {
            "image/png": "[encoded data removed]",
            "text/plain": [
              "<Figure size 720x432 with 1 Axes>"
            ]
          },
          "metadata": {
            "tags": [],
            "needs_background": "light"
          }
        }
      ]
    },
    {
      "cell_type": "code",
      "metadata": {
        "id": "BUGHBOAvjkBk",
        "outputId": "d73582c1-e9c6-4eb9-c133-ef8d9ff2b889",
        "colab": {
          "base_uri": "https://localhost:8080/",
          "height": 131
        }
      },
      "source": [
        "enem_presentes[enem_presentes['NU_NOTA_REDACAO'] == 1000]"
      ],
      "execution_count": 103,
      "outputs": [
        {
          "output_type": "execute_result",
          "data": {
            "text/html": [
              "<div>\n",
              "<style scoped>\n",
              "    .dataframe tbody tr th:only-of-type {\n",
              "        vertical-align: middle;\n",
              "    }\n",
              "\n",
              "    .dataframe tbody tr th {\n",
              "        vertical-align: top;\n",
              "    }\n",
              "\n",
              "    .dataframe thead th {\n",
              "        text-align: right;\n",
              "    }\n",
              "</style>\n",
              "<table border=\"1\" class=\"dataframe\">\n",
              "  <thead>\n",
              "    <tr style=\"text-align: right;\">\n",
              "      <th></th>\n",
              "      <th>NU_INSCRICAO</th>\n",
              "      <th>NU_ANO</th>\n",
              "      <th>CO_MUNICIPIO_RESIDENCIA</th>\n",
              "      <th>NO_MUNICIPIO_RESIDENCIA</th>\n",
              "      <th>CO_UF_RESIDENCIA</th>\n",
              "      <th>SG_UF_RESIDENCIA</th>\n",
              "      <th>NU_IDADE</th>\n",
              "      <th>TP_SEXO</th>\n",
              "      <th>TP_ESTADO_CIVIL</th>\n",
              "      <th>TP_COR_RACA</th>\n",
              "      <th>TP_NACIONALIDADE</th>\n",
              "      <th>CO_MUNICIPIO_NASCIMENTO</th>\n",
              "      <th>NO_MUNICIPIO_NASCIMENTO</th>\n",
              "      <th>CO_UF_NASCIMENTO</th>\n",
              "      <th>SG_UF_NASCIMENTO</th>\n",
              "      <th>TP_ST_CONCLUSAO</th>\n",
              "      <th>TP_ANO_CONCLUIU</th>\n",
              "      <th>TP_ESCOLA</th>\n",
              "      <th>TP_ENSINO</th>\n",
              "      <th>IN_TREINEIRO</th>\n",
              "      <th>CO_ESCOLA</th>\n",
              "      <th>CO_MUNICIPIO_ESC</th>\n",
              "      <th>NO_MUNICIPIO_ESC</th>\n",
              "      <th>CO_UF_ESC</th>\n",
              "      <th>SG_UF_ESC</th>\n",
              "      <th>TP_DEPENDENCIA_ADM_ESC</th>\n",
              "      <th>TP_LOCALIZACAO_ESC</th>\n",
              "      <th>TP_SIT_FUNC_ESC</th>\n",
              "      <th>IN_BAIXA_VISAO</th>\n",
              "      <th>IN_CEGUEIRA</th>\n",
              "      <th>IN_SURDEZ</th>\n",
              "      <th>IN_DEFICIENCIA_AUDITIVA</th>\n",
              "      <th>IN_SURDO_CEGUEIRA</th>\n",
              "      <th>IN_DEFICIENCIA_FISICA</th>\n",
              "      <th>IN_DEFICIENCIA_MENTAL</th>\n",
              "      <th>IN_DEFICIT_ATENCAO</th>\n",
              "      <th>IN_DISLEXIA</th>\n",
              "      <th>IN_DISCALCULIA</th>\n",
              "      <th>IN_AUTISMO</th>\n",
              "      <th>IN_VISAO_MONOCULAR</th>\n",
              "      <th>IN_OUTRA_DEF</th>\n",
              "      <th>IN_GESTANTE</th>\n",
              "      <th>IN_LACTANTE</th>\n",
              "      <th>IN_IDOSO</th>\n",
              "      <th>IN_ESTUDA_CLASSE_HOSPITALAR</th>\n",
              "      <th>IN_SEM_RECURSO</th>\n",
              "      <th>IN_BRAILLE</th>\n",
              "      <th>IN_AMPLIADA_24</th>\n",
              "      <th>IN_AMPLIADA_18</th>\n",
              "      <th>IN_LEDOR</th>\n",
              "      <th>IN_ACESSO</th>\n",
              "      <th>IN_TRANSCRICAO</th>\n",
              "      <th>IN_LIBRAS</th>\n",
              "      <th>IN_TEMPO_ADICIONAL</th>\n",
              "      <th>IN_LEITURA_LABIAL</th>\n",
              "      <th>IN_MESA_CADEIRA_RODAS</th>\n",
              "      <th>IN_MESA_CADEIRA_SEPARADA</th>\n",
              "      <th>IN_APOIO_PERNA</th>\n",
              "      <th>IN_GUIA_INTERPRETE</th>\n",
              "      <th>IN_COMPUTADOR</th>\n",
              "      <th>IN_CADEIRA_ESPECIAL</th>\n",
              "      <th>IN_CADEIRA_CANHOTO</th>\n",
              "      <th>IN_CADEIRA_ACOLCHOADA</th>\n",
              "      <th>IN_PROVA_DEITADO</th>\n",
              "      <th>IN_MOBILIARIO_OBESO</th>\n",
              "      <th>IN_LAMINA_OVERLAY</th>\n",
              "      <th>IN_PROTETOR_AURICULAR</th>\n",
              "      <th>IN_MEDIDOR_GLICOSE</th>\n",
              "      <th>IN_MAQUINA_BRAILE</th>\n",
              "      <th>IN_SOROBAN</th>\n",
              "      <th>IN_MARCA_PASSO</th>\n",
              "      <th>IN_SONDA</th>\n",
              "      <th>IN_MEDICAMENTOS</th>\n",
              "      <th>IN_SALA_INDIVIDUAL</th>\n",
              "      <th>IN_SALA_ESPECIAL</th>\n",
              "      <th>IN_SALA_ACOMPANHANTE</th>\n",
              "      <th>IN_MOBILIARIO_ESPECIFICO</th>\n",
              "      <th>IN_MATERIAL_ESPECIFICO</th>\n",
              "      <th>IN_NOME_SOCIAL</th>\n",
              "      <th>CO_MUNICIPIO_PROVA</th>\n",
              "      <th>NO_MUNICIPIO_PROVA</th>\n",
              "      <th>CO_UF_PROVA</th>\n",
              "      <th>SG_UF_PROVA</th>\n",
              "      <th>TP_PRESENCA_CN</th>\n",
              "      <th>TP_PRESENCA_CH</th>\n",
              "      <th>TP_PRESENCA_LC</th>\n",
              "      <th>TP_PRESENCA_MT</th>\n",
              "      <th>CO_PROVA_CN</th>\n",
              "      <th>CO_PROVA_CH</th>\n",
              "      <th>CO_PROVA_LC</th>\n",
              "      <th>CO_PROVA_MT</th>\n",
              "      <th>NU_NOTA_CN</th>\n",
              "      <th>NU_NOTA_CH</th>\n",
              "      <th>NU_NOTA_LC</th>\n",
              "      <th>NU_NOTA_MT</th>\n",
              "      <th>TX_RESPOSTAS_CN</th>\n",
              "      <th>TX_RESPOSTAS_CH</th>\n",
              "      <th>TX_RESPOSTAS_LC</th>\n",
              "      <th>TX_RESPOSTAS_MT</th>\n",
              "      <th>TP_LINGUA</th>\n",
              "      <th>TX_GABARITO_CN</th>\n",
              "      <th>TX_GABARITO_CH</th>\n",
              "      <th>TX_GABARITO_LC</th>\n",
              "      <th>TX_GABARITO_MT</th>\n",
              "      <th>TP_STATUS_REDACAO</th>\n",
              "      <th>NU_NOTA_COMP1</th>\n",
              "      <th>NU_NOTA_COMP2</th>\n",
              "      <th>NU_NOTA_COMP3</th>\n",
              "      <th>NU_NOTA_COMP4</th>\n",
              "      <th>NU_NOTA_COMP5</th>\n",
              "      <th>NU_NOTA_REDACAO</th>\n",
              "      <th>Q001</th>\n",
              "      <th>Q002</th>\n",
              "      <th>Q003</th>\n",
              "      <th>Q004</th>\n",
              "      <th>Q005</th>\n",
              "      <th>Q006</th>\n",
              "      <th>Q007</th>\n",
              "      <th>Q008</th>\n",
              "      <th>Q009</th>\n",
              "      <th>Q010</th>\n",
              "      <th>Q011</th>\n",
              "      <th>Q012</th>\n",
              "      <th>Q013</th>\n",
              "      <th>Q014</th>\n",
              "      <th>Q015</th>\n",
              "      <th>Q016</th>\n",
              "      <th>Q017</th>\n",
              "      <th>Q018</th>\n",
              "      <th>Q019</th>\n",
              "      <th>Q020</th>\n",
              "      <th>Q021</th>\n",
              "      <th>Q022</th>\n",
              "      <th>Q023</th>\n",
              "      <th>Q024</th>\n",
              "      <th>Q025</th>\n",
              "      <th>MUN_RES_E_MUN_PROVA</th>\n",
              "      <th>TEM_CARRO_OU_MOTO</th>\n",
              "      <th>NU_NOTA_SOMA</th>\n",
              "    </tr>\n",
              "  </thead>\n",
              "  <tbody>\n",
              "    <tr>\n",
              "      <th>22973</th>\n",
              "      <td>190001922151</td>\n",
              "      <td>2019</td>\n",
              "      <td>2304400</td>\n",
              "      <td>Fortaleza</td>\n",
              "      <td>23</td>\n",
              "      <td>CE</td>\n",
              "      <td>17</td>\n",
              "      <td>F</td>\n",
              "      <td>1</td>\n",
              "      <td>3</td>\n",
              "      <td>1</td>\n",
              "      <td>2304400.0</td>\n",
              "      <td>Fortaleza</td>\n",
              "      <td>23.0</td>\n",
              "      <td>CE</td>\n",
              "      <td>2</td>\n",
              "      <td>0</td>\n",
              "      <td>3</td>\n",
              "      <td>1.0</td>\n",
              "      <td>Não</td>\n",
              "      <td>23564121.0</td>\n",
              "      <td>2304400.0</td>\n",
              "      <td>Fortaleza</td>\n",
              "      <td>23.0</td>\n",
              "      <td>CE</td>\n",
              "      <td>4.0</td>\n",
              "      <td>1.0</td>\n",
              "      <td>1.0</td>\n",
              "      <td>0</td>\n",
              "      <td>0</td>\n",
              "      <td>0</td>\n",
              "      <td>0</td>\n",
              "      <td>0</td>\n",
              "      <td>0</td>\n",
              "      <td>0</td>\n",
              "      <td>0</td>\n",
              "      <td>0</td>\n",
              "      <td>0</td>\n",
              "      <td>0</td>\n",
              "      <td>0</td>\n",
              "      <td>0</td>\n",
              "      <td>0</td>\n",
              "      <td>0</td>\n",
              "      <td>0</td>\n",
              "      <td>0</td>\n",
              "      <td>0</td>\n",
              "      <td>0</td>\n",
              "      <td>0</td>\n",
              "      <td>0</td>\n",
              "      <td>0</td>\n",
              "      <td>0</td>\n",
              "      <td>0</td>\n",
              "      <td>0</td>\n",
              "      <td>0</td>\n",
              "      <td>0</td>\n",
              "      <td>0</td>\n",
              "      <td>0</td>\n",
              "      <td>0</td>\n",
              "      <td>0</td>\n",
              "      <td>0</td>\n",
              "      <td>0</td>\n",
              "      <td>0</td>\n",
              "      <td>0</td>\n",
              "      <td>0</td>\n",
              "      <td>0</td>\n",
              "      <td>0</td>\n",
              "      <td>0</td>\n",
              "      <td>0</td>\n",
              "      <td>0</td>\n",
              "      <td>0</td>\n",
              "      <td>0</td>\n",
              "      <td>0</td>\n",
              "      <td>0</td>\n",
              "      <td>0</td>\n",
              "      <td>0</td>\n",
              "      <td>0</td>\n",
              "      <td>0</td>\n",
              "      <td>0</td>\n",
              "      <td>0</td>\n",
              "      <td>2304400</td>\n",
              "      <td>Fortaleza</td>\n",
              "      <td>23</td>\n",
              "      <td>CE</td>\n",
              "      <td>1</td>\n",
              "      <td>1</td>\n",
              "      <td>1</td>\n",
              "      <td>1</td>\n",
              "      <td>506.0</td>\n",
              "      <td>507.0</td>\n",
              "      <td>511.0</td>\n",
              "      <td>517.0</td>\n",
              "      <td>623.6</td>\n",
              "      <td>665.7</td>\n",
              "      <td>616.7</td>\n",
              "      <td>793.1</td>\n",
              "      <td>DEADBDAEEBCDCEACBCBBECCDBEBACEDEADABBCBECECCB</td>\n",
              "      <td>EEBCCBDBBAACBCEEEBCDCACDEDBCCDBBEEDEADBEEACDB</td>\n",
              "      <td>BDACE99999BCBAADDDBDDAAECDBECEECBCCDEEDBADEBBC...</td>\n",
              "      <td>AACDCBEEEBEDDDEBADAACDBBCECEBCBADBECBDECEDDDA</td>\n",
              "      <td>0</td>\n",
              "      <td>DEADBAAAEBEECEBCBCBCBDADAEABCEDDDDADCBEECACBC</td>\n",
              "      <td>BACCCBABBADCBCEEEBCACACEEDBCCADBEADBADBBBACDB</td>\n",
              "      <td>BDABEABCADBCBAADDBECDAAECDAECBECBCCDEEAAADDBBC...</td>\n",
              "      <td>AADDDBEEEBEDDBEBACABCDBABECECACAECDCBDCCEDCDA</td>\n",
              "      <td>Sem problemas</td>\n",
              "      <td>200.0</td>\n",
              "      <td>200.0</td>\n",
              "      <td>200.0</td>\n",
              "      <td>200.0</td>\n",
              "      <td>200.0</td>\n",
              "      <td>1000.0</td>\n",
              "      <td>G</td>\n",
              "      <td>G</td>\n",
              "      <td>E</td>\n",
              "      <td>D</td>\n",
              "      <td>4</td>\n",
              "      <td>P</td>\n",
              "      <td>D</td>\n",
              "      <td>E</td>\n",
              "      <td>E</td>\n",
              "      <td>C</td>\n",
              "      <td>A</td>\n",
              "      <td>B</td>\n",
              "      <td>B</td>\n",
              "      <td>B</td>\n",
              "      <td>B</td>\n",
              "      <td>B</td>\n",
              "      <td>A</td>\n",
              "      <td>A</td>\n",
              "      <td>E</td>\n",
              "      <td>B</td>\n",
              "      <td>B</td>\n",
              "      <td>E</td>\n",
              "      <td>B</td>\n",
              "      <td>D</td>\n",
              "      <td>B</td>\n",
              "      <td>Igual</td>\n",
              "      <td>Não</td>\n",
              "      <td>3699.1</td>\n",
              "    </tr>\n",
              "    <tr>\n",
              "      <th>61045</th>\n",
              "      <td>190003443879</td>\n",
              "      <td>2019</td>\n",
              "      <td>2702900</td>\n",
              "      <td>Girau do Ponciano</td>\n",
              "      <td>27</td>\n",
              "      <td>AL</td>\n",
              "      <td>20</td>\n",
              "      <td>F</td>\n",
              "      <td>1</td>\n",
              "      <td>3</td>\n",
              "      <td>1</td>\n",
              "      <td>2700300.0</td>\n",
              "      <td>Arapiraca</td>\n",
              "      <td>27.0</td>\n",
              "      <td>AL</td>\n",
              "      <td>1</td>\n",
              "      <td>3</td>\n",
              "      <td>1</td>\n",
              "      <td>NaN</td>\n",
              "      <td>Não</td>\n",
              "      <td>NaN</td>\n",
              "      <td>NaN</td>\n",
              "      <td>NaN</td>\n",
              "      <td>NaN</td>\n",
              "      <td>NaN</td>\n",
              "      <td>NaN</td>\n",
              "      <td>NaN</td>\n",
              "      <td>NaN</td>\n",
              "      <td>0</td>\n",
              "      <td>0</td>\n",
              "      <td>0</td>\n",
              "      <td>0</td>\n",
              "      <td>0</td>\n",
              "      <td>0</td>\n",
              "      <td>0</td>\n",
              "      <td>0</td>\n",
              "      <td>0</td>\n",
              "      <td>0</td>\n",
              "      <td>0</td>\n",
              "      <td>0</td>\n",
              "      <td>0</td>\n",
              "      <td>0</td>\n",
              "      <td>0</td>\n",
              "      <td>0</td>\n",
              "      <td>0</td>\n",
              "      <td>0</td>\n",
              "      <td>0</td>\n",
              "      <td>0</td>\n",
              "      <td>0</td>\n",
              "      <td>0</td>\n",
              "      <td>0</td>\n",
              "      <td>0</td>\n",
              "      <td>0</td>\n",
              "      <td>0</td>\n",
              "      <td>0</td>\n",
              "      <td>0</td>\n",
              "      <td>0</td>\n",
              "      <td>0</td>\n",
              "      <td>0</td>\n",
              "      <td>0</td>\n",
              "      <td>0</td>\n",
              "      <td>0</td>\n",
              "      <td>0</td>\n",
              "      <td>0</td>\n",
              "      <td>0</td>\n",
              "      <td>0</td>\n",
              "      <td>0</td>\n",
              "      <td>0</td>\n",
              "      <td>0</td>\n",
              "      <td>0</td>\n",
              "      <td>0</td>\n",
              "      <td>0</td>\n",
              "      <td>0</td>\n",
              "      <td>0</td>\n",
              "      <td>0</td>\n",
              "      <td>0</td>\n",
              "      <td>0</td>\n",
              "      <td>0</td>\n",
              "      <td>0</td>\n",
              "      <td>2702900</td>\n",
              "      <td>Girau do Ponciano</td>\n",
              "      <td>27</td>\n",
              "      <td>AL</td>\n",
              "      <td>1</td>\n",
              "      <td>1</td>\n",
              "      <td>1</td>\n",
              "      <td>1</td>\n",
              "      <td>503.0</td>\n",
              "      <td>509.0</td>\n",
              "      <td>514.0</td>\n",
              "      <td>515.0</td>\n",
              "      <td>660.3</td>\n",
              "      <td>667.9</td>\n",
              "      <td>617.4</td>\n",
              "      <td>733.5</td>\n",
              "      <td>CEECCDDEADCCCDDBBCECADAEAAACACBDEBCCEDCEDDADE</td>\n",
              "      <td>ACACEEBCCBABADBEEACDBBAEBCCABCDBADCADDDBBDECE</td>\n",
              "      <td>99999AACEABACCCDBDEBDACDDDECCECDDBAEBCDAAECBCC...</td>\n",
              "      <td>EAEADDEBBBCCCDBABEDEACCBBDCEAEDBECBEDECEDAEAA</td>\n",
              "      <td>1</td>\n",
              "      <td>AAECACDEADCBCDDDBCBDADAEABCEBABEEBCBEECEBDADC</td>\n",
              "      <td>ACACEEBCCBABADBBBACDBBACCCCADCEBADCBEEDBBEADB</td>\n",
              "      <td>EBBADCABDABACBCEBDEEAAADDBECDECDDBADBCDAAECBCC...</td>\n",
              "      <td>EEEADBEBACABCDBABECECACDCBDCCEDCDABEDECDDDBAA</td>\n",
              "      <td>Sem problemas</td>\n",
              "      <td>200.0</td>\n",
              "      <td>200.0</td>\n",
              "      <td>200.0</td>\n",
              "      <td>200.0</td>\n",
              "      <td>200.0</td>\n",
              "      <td>1000.0</td>\n",
              "      <td>E</td>\n",
              "      <td>G</td>\n",
              "      <td>F</td>\n",
              "      <td>D</td>\n",
              "      <td>5</td>\n",
              "      <td>I</td>\n",
              "      <td>A</td>\n",
              "      <td>B</td>\n",
              "      <td>D</td>\n",
              "      <td>B</td>\n",
              "      <td>A</td>\n",
              "      <td>B</td>\n",
              "      <td>A</td>\n",
              "      <td>A</td>\n",
              "      <td>A</td>\n",
              "      <td>A</td>\n",
              "      <td>A</td>\n",
              "      <td>A</td>\n",
              "      <td>B</td>\n",
              "      <td>A</td>\n",
              "      <td>A</td>\n",
              "      <td>D</td>\n",
              "      <td>A</td>\n",
              "      <td>B</td>\n",
              "      <td>B</td>\n",
              "      <td>Igual</td>\n",
              "      <td>Não</td>\n",
              "      <td>3679.1</td>\n",
              "    </tr>\n",
              "  </tbody>\n",
              "</table>\n",
              "</div>"
            ],
            "text/plain": [
              "       NU_INSCRICAO  NU_ANO  CO_MUNICIPIO_RESIDENCIA NO_MUNICIPIO_RESIDENCIA  \\\n",
              "22973  190001922151    2019                  2304400               Fortaleza   \n",
              "61045  190003443879    2019                  2702900       Girau do Ponciano   \n",
              "\n",
              "       CO_UF_RESIDENCIA SG_UF_RESIDENCIA  NU_IDADE TP_SEXO  TP_ESTADO_CIVIL  \\\n",
              "22973                23               CE        17       F                1   \n",
              "61045                27               AL        20       F                1   \n",
              "\n",
              "       TP_COR_RACA  TP_NACIONALIDADE  CO_MUNICIPIO_NASCIMENTO  \\\n",
              "22973            3                 1                2304400.0   \n",
              "61045            3                 1                2700300.0   \n",
              "\n",
              "      NO_MUNICIPIO_NASCIMENTO  CO_UF_NASCIMENTO SG_UF_NASCIMENTO  \\\n",
              "22973               Fortaleza              23.0               CE   \n",
              "61045               Arapiraca              27.0               AL   \n",
              "\n",
              "       TP_ST_CONCLUSAO  TP_ANO_CONCLUIU  TP_ESCOLA  TP_ENSINO IN_TREINEIRO  \\\n",
              "22973                2                0          3        1.0          Não   \n",
              "61045                1                3          1        NaN          Não   \n",
              "\n",
              "        CO_ESCOLA  CO_MUNICIPIO_ESC NO_MUNICIPIO_ESC  CO_UF_ESC SG_UF_ESC  \\\n",
              "22973  23564121.0         2304400.0        Fortaleza       23.0        CE   \n",
              "61045         NaN               NaN              NaN        NaN       NaN   \n",
              "\n",
              "       TP_DEPENDENCIA_ADM_ESC  TP_LOCALIZACAO_ESC  TP_SIT_FUNC_ESC  \\\n",
              "22973                     4.0                 1.0              1.0   \n",
              "61045                     NaN                 NaN              NaN   \n",
              "\n",
              "       IN_BAIXA_VISAO  IN_CEGUEIRA  IN_SURDEZ  IN_DEFICIENCIA_AUDITIVA  \\\n",
              "22973               0            0          0                        0   \n",
              "61045               0            0          0                        0   \n",
              "\n",
              "       IN_SURDO_CEGUEIRA  IN_DEFICIENCIA_FISICA  IN_DEFICIENCIA_MENTAL  \\\n",
              "22973                  0                      0                      0   \n",
              "61045                  0                      0                      0   \n",
              "\n",
              "       IN_DEFICIT_ATENCAO  IN_DISLEXIA  IN_DISCALCULIA  IN_AUTISMO  \\\n",
              "22973                   0            0               0           0   \n",
              "61045                   0            0               0           0   \n",
              "\n",
              "       IN_VISAO_MONOCULAR  IN_OUTRA_DEF  IN_GESTANTE  IN_LACTANTE  IN_IDOSO  \\\n",
              "22973                   0             0            0            0         0   \n",
              "61045                   0             0            0            0         0   \n",
              "\n",
              "       IN_ESTUDA_CLASSE_HOSPITALAR  IN_SEM_RECURSO  IN_BRAILLE  \\\n",
              "22973                            0               0           0   \n",
              "61045                            0               0           0   \n",
              "\n",
              "       IN_AMPLIADA_24  IN_AMPLIADA_18  IN_LEDOR  IN_ACESSO  IN_TRANSCRICAO  \\\n",
              "22973               0               0         0          0               0   \n",
              "61045               0               0         0          0               0   \n",
              "\n",
              "       IN_LIBRAS  IN_TEMPO_ADICIONAL  IN_LEITURA_LABIAL  \\\n",
              "22973          0                   0                  0   \n",
              "61045          0                   0                  0   \n",
              "\n",
              "       IN_MESA_CADEIRA_RODAS  IN_MESA_CADEIRA_SEPARADA  IN_APOIO_PERNA  \\\n",
              "22973                      0                         0               0   \n",
              "61045                      0                         0               0   \n",
              "\n",
              "       IN_GUIA_INTERPRETE  IN_COMPUTADOR  IN_CADEIRA_ESPECIAL  \\\n",
              "22973                   0              0                    0   \n",
              "61045                   0              0                    0   \n",
              "\n",
              "       IN_CADEIRA_CANHOTO  IN_CADEIRA_ACOLCHOADA  IN_PROVA_DEITADO  \\\n",
              "22973                   0                      0                 0   \n",
              "61045                   0                      0                 0   \n",
              "\n",
              "       IN_MOBILIARIO_OBESO  IN_LAMINA_OVERLAY  IN_PROTETOR_AURICULAR  \\\n",
              "22973                    0                  0                      0   \n",
              "61045                    0                  0                      0   \n",
              "\n",
              "       IN_MEDIDOR_GLICOSE  IN_MAQUINA_BRAILE  IN_SOROBAN  IN_MARCA_PASSO  \\\n",
              "22973                   0                  0           0               0   \n",
              "61045                   0                  0           0               0   \n",
              "\n",
              "       IN_SONDA  IN_MEDICAMENTOS  IN_SALA_INDIVIDUAL  IN_SALA_ESPECIAL  \\\n",
              "22973         0                0                   0                 0   \n",
              "61045         0                0                   0                 0   \n",
              "\n",
              "       IN_SALA_ACOMPANHANTE  IN_MOBILIARIO_ESPECIFICO  IN_MATERIAL_ESPECIFICO  \\\n",
              "22973                     0                         0                       0   \n",
              "61045                     0                         0                       0   \n",
              "\n",
              "       IN_NOME_SOCIAL  CO_MUNICIPIO_PROVA NO_MUNICIPIO_PROVA  CO_UF_PROVA  \\\n",
              "22973               0             2304400          Fortaleza           23   \n",
              "61045               0             2702900  Girau do Ponciano           27   \n",
              "\n",
              "      SG_UF_PROVA  TP_PRESENCA_CN  TP_PRESENCA_CH  TP_PRESENCA_LC  \\\n",
              "22973          CE               1               1               1   \n",
              "61045          AL               1               1               1   \n",
              "\n",
              "       TP_PRESENCA_MT  CO_PROVA_CN  CO_PROVA_CH  CO_PROVA_LC  CO_PROVA_MT  \\\n",
              "22973               1        506.0        507.0        511.0        517.0   \n",
              "61045               1        503.0        509.0        514.0        515.0   \n",
              "\n",
              "       NU_NOTA_CN  NU_NOTA_CH  NU_NOTA_LC  NU_NOTA_MT  \\\n",
              "22973       623.6       665.7       616.7       793.1   \n",
              "61045       660.3       667.9       617.4       733.5   \n",
              "\n",
              "                                     TX_RESPOSTAS_CN  \\\n",
              "22973  DEADBDAEEBCDCEACBCBBECCDBEBACEDEADABBCBECECCB   \n",
              "61045  CEECCDDEADCCCDDBBCECADAEAAACACBDEBCCEDCEDDADE   \n",
              "\n",
              "                                     TX_RESPOSTAS_CH  \\\n",
              "22973  EEBCCBDBBAACBCEEEBCDCACDEDBCCDBBEEDEADBEEACDB   \n",
              "61045  ACACEEBCCBABADBEEACDBBAEBCCABCDBADCADDDBBDECE   \n",
              "\n",
              "                                         TX_RESPOSTAS_LC  \\\n",
              "22973  BDACE99999BCBAADDDBDDAAECDBECEECBCCDEEDBADEBBC...   \n",
              "61045  99999AACEABACCCDBDEBDACDDDECCECDDBAEBCDAAECBCC...   \n",
              "\n",
              "                                     TX_RESPOSTAS_MT  TP_LINGUA  \\\n",
              "22973  AACDCBEEEBEDDDEBADAACDBBCECEBCBADBECBDECEDDDA          0   \n",
              "61045  EAEADDEBBBCCCDBABEDEACCBBDCEAEDBECBEDECEDAEAA          1   \n",
              "\n",
              "                                      TX_GABARITO_CN  \\\n",
              "22973  DEADBAAAEBEECEBCBCBCBDADAEABCEDDDDADCBEECACBC   \n",
              "61045  AAECACDEADCBCDDDBCBDADAEABCEBABEEBCBEECEBDADC   \n",
              "\n",
              "                                      TX_GABARITO_CH  \\\n",
              "22973  BACCCBABBADCBCEEEBCACACEEDBCCADBEADBADBBBACDB   \n",
              "61045  ACACEEBCCBABADBBBACDBBACCCCADCEBADCBEEDBBEADB   \n",
              "\n",
              "                                          TX_GABARITO_LC  \\\n",
              "22973  BDABEABCADBCBAADDBECDAAECDAECBECBCCDEEAAADDBBC...   \n",
              "61045  EBBADCABDABACBCEBDEEAAADDBECDECDDBADBCDAAECBCC...   \n",
              "\n",
              "                                      TX_GABARITO_MT TP_STATUS_REDACAO  \\\n",
              "22973  AADDDBEEEBEDDBEBACABCDBABECECACAECDCBDCCEDCDA     Sem problemas   \n",
              "61045  EEEADBEBACABCDBABECECACDCBDCCEDCDABEDECDDDBAA     Sem problemas   \n",
              "\n",
              "       NU_NOTA_COMP1  NU_NOTA_COMP2  NU_NOTA_COMP3  NU_NOTA_COMP4  \\\n",
              "22973          200.0          200.0          200.0          200.0   \n",
              "61045          200.0          200.0          200.0          200.0   \n",
              "\n",
              "       NU_NOTA_COMP5  NU_NOTA_REDACAO Q001 Q002 Q003 Q004  Q005 Q006 Q007  \\\n",
              "22973          200.0           1000.0    G    G    E    D     4    P    D   \n",
              "61045          200.0           1000.0    E    G    F    D     5    I    A   \n",
              "\n",
              "      Q008 Q009 Q010 Q011 Q012 Q013 Q014 Q015 Q016 Q017 Q018 Q019 Q020 Q021  \\\n",
              "22973    E    E    C    A    B    B    B    B    B    A    A    E    B    B   \n",
              "61045    B    D    B    A    B    A    A    A    A    A    A    B    A    A   \n",
              "\n",
              "      Q022 Q023 Q024 Q025 MUN_RES_E_MUN_PROVA TEM_CARRO_OU_MOTO  NU_NOTA_SOMA  \n",
              "22973    E    B    D    B               Igual               Não        3699.1  \n",
              "61045    D    A    B    B               Igual               Não        3679.1  "
            ]
          },
          "metadata": {
            "tags": []
          },
          "execution_count": 103
        }
      ]
    },
    {
      "cell_type": "code",
      "metadata": {
        "id": "QQbHN16hhctN"
      },
      "source": [
        "notas = enem_presentes[provas]"
      ],
      "execution_count": 113,
      "outputs": []
    },
    {
      "cell_type": "code",
      "metadata": {
        "id": "GhXc5cM5VCAv",
        "outputId": "827a1495-2f91-4b65-e4ca-56b8b0ffaa0c",
        "colab": {
          "base_uri": "https://localhost:8080/",
          "height": 297
        }
      },
      "source": [
        "notas.describe()"
      ],
      "execution_count": 114,
      "outputs": [
        {
          "output_type": "execute_result",
          "data": {
            "text/html": [
              "<div>\n",
              "<style scoped>\n",
              "    .dataframe tbody tr th:only-of-type {\n",
              "        vertical-align: middle;\n",
              "    }\n",
              "\n",
              "    .dataframe tbody tr th {\n",
              "        vertical-align: top;\n",
              "    }\n",
              "\n",
              "    .dataframe thead th {\n",
              "        text-align: right;\n",
              "    }\n",
              "</style>\n",
              "<table border=\"1\" class=\"dataframe\">\n",
              "  <thead>\n",
              "    <tr style=\"text-align: right;\">\n",
              "      <th></th>\n",
              "      <th>NU_NOTA_CN</th>\n",
              "      <th>NU_NOTA_MT</th>\n",
              "      <th>NU_NOTA_CH</th>\n",
              "      <th>NU_NOTA_LC</th>\n",
              "      <th>NU_NOTA_REDACAO</th>\n",
              "    </tr>\n",
              "  </thead>\n",
              "  <tbody>\n",
              "    <tr>\n",
              "      <th>count</th>\n",
              "      <td>92539.000000</td>\n",
              "      <td>92539.000000</td>\n",
              "      <td>92539.000000</td>\n",
              "      <td>92539.000000</td>\n",
              "      <td>92539.000000</td>\n",
              "    </tr>\n",
              "    <tr>\n",
              "      <th>mean</th>\n",
              "      <td>478.026814</td>\n",
              "      <td>523.681280</td>\n",
              "      <td>510.063370</td>\n",
              "      <td>522.298789</td>\n",
              "      <td>580.080399</td>\n",
              "    </tr>\n",
              "    <tr>\n",
              "      <th>std</th>\n",
              "      <td>76.247734</td>\n",
              "      <td>109.346899</td>\n",
              "      <td>81.441879</td>\n",
              "      <td>63.132783</td>\n",
              "      <td>181.749009</td>\n",
              "    </tr>\n",
              "    <tr>\n",
              "      <th>min</th>\n",
              "      <td>0.000000</td>\n",
              "      <td>0.000000</td>\n",
              "      <td>0.000000</td>\n",
              "      <td>0.000000</td>\n",
              "      <td>0.000000</td>\n",
              "    </tr>\n",
              "    <tr>\n",
              "      <th>25%</th>\n",
              "      <td>418.000000</td>\n",
              "      <td>435.400000</td>\n",
              "      <td>450.800000</td>\n",
              "      <td>485.500000</td>\n",
              "      <td>500.000000</td>\n",
              "    </tr>\n",
              "    <tr>\n",
              "      <th>50%</th>\n",
              "      <td>470.300000</td>\n",
              "      <td>501.800000</td>\n",
              "      <td>513.600000</td>\n",
              "      <td>527.600000</td>\n",
              "      <td>580.000000</td>\n",
              "    </tr>\n",
              "    <tr>\n",
              "      <th>75%</th>\n",
              "      <td>533.300000</td>\n",
              "      <td>598.400000</td>\n",
              "      <td>569.100000</td>\n",
              "      <td>566.500000</td>\n",
              "      <td>680.000000</td>\n",
              "    </tr>\n",
              "    <tr>\n",
              "      <th>max</th>\n",
              "      <td>797.300000</td>\n",
              "      <td>985.000000</td>\n",
              "      <td>809.400000</td>\n",
              "      <td>801.700000</td>\n",
              "      <td>1000.000000</td>\n",
              "    </tr>\n",
              "  </tbody>\n",
              "</table>\n",
              "</div>"
            ],
            "text/plain": [
              "         NU_NOTA_CN    NU_NOTA_MT    NU_NOTA_CH    NU_NOTA_LC  NU_NOTA_REDACAO\n",
              "count  92539.000000  92539.000000  92539.000000  92539.000000     92539.000000\n",
              "mean     478.026814    523.681280    510.063370    522.298789       580.080399\n",
              "std       76.247734    109.346899     81.441879     63.132783       181.749009\n",
              "min        0.000000      0.000000      0.000000      0.000000         0.000000\n",
              "25%      418.000000    435.400000    450.800000    485.500000       500.000000\n",
              "50%      470.300000    501.800000    513.600000    527.600000       580.000000\n",
              "75%      533.300000    598.400000    569.100000    566.500000       680.000000\n",
              "max      797.300000    985.000000    809.400000    801.700000      1000.000000"
            ]
          },
          "metadata": {
            "tags": []
          },
          "execution_count": 114
        }
      ]
    },
    {
      "cell_type": "code",
      "metadata": {
        "id": "zBnxgQi0nLKZ",
        "outputId": "62d342f9-ac16-4cd9-d2cc-53a2f88d4e9f",
        "colab": {
          "base_uri": "https://localhost:8080/",
          "height": 283
        }
      },
      "source": [
        "notas.boxplot()"
      ],
      "execution_count": 117,
      "outputs": [
        {
          "output_type": "execute_result",
          "data": {
            "text/plain": [
              "<matplotlib.axes._subplots.AxesSubplot at 0x7fb245e41cc0>"
            ]
          },
          "metadata": {
            "tags": []
          },
          "execution_count": 117
        },
        {
          "output_type": "display_data",
          "data": {
            "image/png": "[encoded data removed]",
            "text/plain": [
              "<Figure size 432x288 with 1 Axes>"
            ]
          },
          "metadata": {
            "tags": [],
            "needs_background": "light"
          }
        }
      ]
    },
    {
      "cell_type": "code",
      "metadata": {
        "id": "ZjKhig5OXNfQ",
        "outputId": "4132d55c-fd6c-4062-da00-275766b3d3d2",
        "colab": {
          "base_uri": "https://localhost:8080/",
          "height": 375
        }
      },
      "source": [
        "fig, ax = plt.subplots(figsize=(10,6))\n",
        "sns.violinplot(data=notas, palette=\"Accent\", ax=ax)\n",
        "plt.show()"
      ],
      "execution_count": 32,
      "outputs": [
        {
          "output_type": "display_data",
          "data": {
            "image/png": "[encoded data removed]",
            "text/plain": [
              "<Figure size 720x432 with 1 Axes>"
            ]
          },
          "metadata": {
            "tags": [],
            "needs_background": "light"
          }
        }
      ]
    },
    {
      "cell_type": "code",
      "metadata": {
        "id": "GybOPnBYdjdG",
        "outputId": "ce784858-35c7-43d5-d64b-35f45cf0e0d9",
        "colab": {
          "base_uri": "https://localhost:8080/",
          "height": 405
        }
      },
      "source": [
        "fig, ax = plt.subplots(figsize=(10,6))\n",
        "sns.boxplot(data=enem_presentes, x='Q006', y='NU_NOTA_MT', order=classes_renda)"
      ],
      "execution_count": 116,
      "outputs": [
        {
          "output_type": "execute_result",
          "data": {
            "text/plain": [
              "<matplotlib.axes._subplots.AxesSubplot at 0x7fb245e417f0>"
            ]
          },
          "metadata": {
            "tags": []
          },
          "execution_count": 116
        },
        {
          "output_type": "display_data",
          "data": {
            "image/png": "[encoded data removed]",
            "text/plain": [
              "<Figure size 720x432 with 1 Axes>"
            ]
          },
          "metadata": {
            "tags": [],
            "needs_background": "light"
          }
        }
      ]
    },
    {
      "cell_type": "code",
      "metadata": {
        "id": "8oFwSgPeeoh9",
        "outputId": "ebf14dc9-e528-4f08-db8e-377b7859eb45",
        "colab": {
          "base_uri": "https://localhost:8080/",
          "height": 296
        }
      },
      "source": [
        "sns.boxplot(data=enem, x='Q006', y='NU_NOTA_CN', order=classes_renda)"
      ],
      "execution_count": 38,
      "outputs": [
        {
          "output_type": "execute_result",
          "data": {
            "text/plain": [
              "<matplotlib.axes._subplots.AxesSubplot at 0x7fb2504c8710>"
            ]
          },
          "metadata": {
            "tags": []
          },
          "execution_count": 38
        },
        {
          "output_type": "display_data",
          "data": {
            "image/png": "[encoded data removed]",
            "text/plain": [
              "<Figure size 432x288 with 1 Axes>"
            ]
          },
          "metadata": {
            "tags": [],
            "needs_background": "light"
          }
        }
      ]
    },
    {
      "cell_type": "code",
      "metadata": {
        "id": "RU1R77_2ep0q",
        "outputId": "468fa99a-9e0b-41ff-b9e7-916ce80a8311",
        "colab": {
          "base_uri": "https://localhost:8080/",
          "height": 296
        }
      },
      "source": [
        "sns.boxplot(data=enem, x='Q006', y='NU_NOTA_LC', order=classes_renda)"
      ],
      "execution_count": 39,
      "outputs": [
        {
          "output_type": "execute_result",
          "data": {
            "text/plain": [
              "<matplotlib.axes._subplots.AxesSubplot at 0x7fb252df3048>"
            ]
          },
          "metadata": {
            "tags": []
          },
          "execution_count": 39
        },
        {
          "output_type": "display_data",
          "data": {
            "image/png": "[encoded data removed]",
            "text/plain": [
              "<Figure size 432x288 with 1 Axes>"
            ]
          },
          "metadata": {
            "tags": [],
            "needs_background": "light"
          }
        }
      ]
    },
    {
      "cell_type": "code",
      "metadata": {
        "id": "d7gXNCW2eqMe",
        "outputId": "a1b43ea7-c1a0-43bb-98dd-ab5d55c9c798",
        "colab": {
          "base_uri": "https://localhost:8080/",
          "height": 296
        }
      },
      "source": [
        "sns.boxplot(data=enem, x='Q006', y='NU_NOTA_CH', order=classes_renda)"
      ],
      "execution_count": 40,
      "outputs": [
        {
          "output_type": "execute_result",
          "data": {
            "text/plain": [
              "<matplotlib.axes._subplots.AxesSubplot at 0x7fb250425518>"
            ]
          },
          "metadata": {
            "tags": []
          },
          "execution_count": 40
        },
        {
          "output_type": "display_data",
          "data": {
            "image/png": "[encoded data removed]",
            "text/plain": [
              "<Figure size 432x288 with 1 Axes>"
            ]
          },
          "metadata": {
            "tags": [],
            "needs_background": "light"
          }
        }
      ]
    },
    {
      "cell_type": "code",
      "metadata": {
        "id": "M_mYofxpepe6",
        "outputId": "bbbf7d4f-6cd4-41fb-c60a-2a4bac44dabf",
        "colab": {
          "base_uri": "https://localhost:8080/",
          "height": 296
        }
      },
      "source": [
        "sns.boxplot(data=enem, x='Q006', y='NU_NOTA_REDACAO', order=classes_renda)"
      ],
      "execution_count": 41,
      "outputs": [
        {
          "output_type": "execute_result",
          "data": {
            "text/plain": [
              "<matplotlib.axes._subplots.AxesSubplot at 0x7fb24ec1ecf8>"
            ]
          },
          "metadata": {
            "tags": []
          },
          "execution_count": 41
        },
        {
          "output_type": "display_data",
          "data": {
            "image/png": "[encoded data removed]",
            "text/plain": [
              "<Figure size 432x288 with 1 Axes>"
            ]
          },
          "metadata": {
            "tags": [],
            "needs_background": "light"
          }
        }
      ]
    },
    {
      "cell_type": "code",
      "metadata": {
        "id": "1GkjTDedhuE-"
      },
      "source": [
        ""
      ],
      "execution_count": 41,
      "outputs": []
    },
    {
      "cell_type": "code",
      "metadata": {
        "id": "URwJ6q7liFxt",
        "outputId": "0b498e74-343e-4d57-fca8-622d7e2cf0be",
        "colab": {
          "base_uri": "https://localhost:8080/",
          "height": 296
        }
      },
      "source": [
        "sns.boxplot(data=enem, x='Q006', y='NU_NOTA_SOMA', order=classes_renda)"
      ],
      "execution_count": 42,
      "outputs": [
        {
          "output_type": "execute_result",
          "data": {
            "text/plain": [
              "<matplotlib.axes._subplots.AxesSubplot at 0x7fb24ec1e160>"
            ]
          },
          "metadata": {
            "tags": []
          },
          "execution_count": 42
        },
        {
          "output_type": "display_data",
          "data": {
            "image/png": "[encoded data removed]",
            "text/plain": [
              "<Figure size 432x288 with 1 Axes>"
            ]
          },
          "metadata": {
            "tags": [],
            "needs_background": "light"
          }
        }
      ]
    },
    {
      "cell_type": "code",
      "metadata": {
        "id": "JsdFS8_4_Y3a"
      },
      "source": [
        "atendimentos_especiais = ['IN_BAIXA_VISAO', 'IN_CEGUEIRA', 'IN_SURDEZ','IN_DEFICIENCIA_AUDITIVA', 'IN_SURDO_CEGUEIRA','IN_DEFICIENCIA_FISICA', 'IN_DEFICIENCIA_MENTAL','IN_DEFICIT_ATENCAO', 'IN_DISLEXIA', 'IN_DISCALCULIA','IN_AUTISMO', 'IN_VISAO_MONOCULAR', 'IN_OUTRA_DEF']"
      ],
      "execution_count": 43,
      "outputs": []
    },
    {
      "cell_type": "code",
      "metadata": {
        "id": "eJsH3ZzJJso6",
        "outputId": "731891f7-1931-47f1-b2d8-66d17db1e65b",
        "colab": {
          "base_uri": "https://localhost:8080/",
          "height": 286
        }
      },
      "source": [
        "plt.axhline(0, color='k')"
      ],
      "execution_count": 44,
      "outputs": [
        {
          "output_type": "execute_result",
          "data": {
            "text/plain": [
              "<matplotlib.lines.Line2D at 0x7fb25032f080>"
            ]
          },
          "metadata": {
            "tags": []
          },
          "execution_count": 44
        },
        {
          "output_type": "display_data",
          "data": {
            "image/png": "[encoded data removed]",
            "text/plain": [
              "<Figure size 432x288 with 1 Axes>"
            ]
          },
          "metadata": {
            "tags": [],
            "needs_background": "light"
          }
        }
      ]
    }
  ]
}